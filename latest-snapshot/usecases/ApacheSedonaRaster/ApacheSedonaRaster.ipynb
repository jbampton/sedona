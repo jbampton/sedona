{
 "cells": [
  {
   "cell_type": "markdown",
   "id": "fbefc0bd-731b-43e4-b271-6cb4cba5c256",
   "metadata": {},
   "source": [
    "```\n",
    "Licensed to the Apache Software Foundation (ASF) under one\n",
    "or more contributor license agreements.  See the NOTICE file\n",
    "distributed with this work for additional information\n",
    "regarding copyright ownership.  The ASF licenses this file\n",
    "to you under the Apache License, Version 2.0 (the\n",
    "\"License\"); you may not use this file except in compliance\n",
    "with the License.  You may obtain a copy of the License at\n",
    "  http://www.apache.org/licenses/LICENSE-2.0\n",
    "Unless required by applicable law or agreed to in writing,\n",
    "software distributed under the License is distributed on an\n",
    "\"AS IS\" BASIS, WITHOUT WARRANTIES OR CONDITIONS OF ANY\n",
    "KIND, either express or implied.  See the License for the\n",
    "specific language governing permissions and limitations\n",
    "under the License.\n",
    "```"
   ]
  },
  {
   "cell_type": "markdown",
   "id": "b443d3d3-1667-4770-b57c-7f79a3ea5d42",
   "metadata": {},
   "source": [
    "## Import Sedona"
   ]
  },
  {
   "cell_type": "code",
   "execution_count": 1,
   "id": "328d0b74-1efd-468c-bc96-a469965df60b",
   "metadata": {
    "tags": []
   },
   "outputs": [],
   "source": [
    "from sedona.spark import *\n",
    "from IPython.display import display, HTML"
   ]
  },
  {
   "cell_type": "markdown",
   "id": "f28c8117-069c-431c-ac58-6ff258b1196d",
   "metadata": {},
   "source": [
    "## Create a Sedona Context object.\n",
    "If you already have a spark instance available, simply use ```SedonaContext.create(spark)```."
   ]
  },
  {
   "cell_type": "code",
   "execution_count": 2,
   "id": "e3495923-7fb4-4a6e-b62e-a4eeb9c2b306",
   "metadata": {
    "tags": []
   },
   "outputs": [
    {
     "name": "stdout",
     "output_type": "stream",
     "text": [
      ":: loading settings :: url = jar:file:/home/jovyan/spark-3.4.2-bin-hadoop3/jars/ivy-2.5.1.jar!/org/apache/ivy/core/settings/ivysettings.xml\n"
     ]
    },
    {
     "name": "stderr",
     "output_type": "stream",
     "text": [
      "Ivy Default Cache set to: /home/jovyan/.ivy2/cache\n",
      "The jars for the packages stored in: /home/jovyan/.ivy2/jars\n",
      "org.apache.sedona#sedona-spark-3.4_2.12 added as a dependency\n",
      "org.datasyslab#geotools-wrapper added as a dependency\n",
      "uk.co.gresearch.spark#spark-extension_2.12 added as a dependency\n",
      ":: resolving dependencies :: org.apache.spark#spark-submit-parent-1ba43c79-c5b5-45c3-8320-61322bde74a8;1.0\n",
      "\tconfs: [default]\n",
      "\tfound org.apache.sedona#sedona-spark-3.4_2.12;1.6.0 in central\n",
      "\tfound org.apache.sedona#sedona-common;1.6.0 in central\n",
      "\tfound org.apache.commons#commons-math3;3.6.1 in central\n",
      "\tfound org.locationtech.jts#jts-core;1.19.0 in central\n",
      "\tfound org.wololo#jts2geojson;0.16.1 in central\n",
      "\tfound org.locationtech.spatial4j#spatial4j;0.8 in central\n",
      "\tfound com.google.geometry#s2-geometry;2.0.0 in central\n",
      "\tfound com.google.guava#guava;25.1-jre in central\n",
      "\tfound com.google.code.findbugs#jsr305;3.0.2 in central\n",
      "\tfound org.checkerframework#checker-qual;2.0.0 in central\n",
      "\tfound com.google.errorprone#error_prone_annotations;2.1.3 in central\n",
      "\tfound com.google.j2objc#j2objc-annotations;1.1 in central\n",
      "\tfound org.codehaus.mojo#animal-sniffer-annotations;1.14 in central\n",
      "\tfound com.uber#h3;4.1.1 in central\n",
      "\tfound net.sf.geographiclib#GeographicLib-Java;1.52 in central\n",
      "\tfound com.github.ben-manes.caffeine#caffeine;2.9.2 in central\n",
      "\tfound org.checkerframework#checker-qual;3.10.0 in central\n",
      "\tfound com.google.errorprone#error_prone_annotations;2.5.1 in central\n",
      "\tfound org.apache.sedona#sedona-spark-common-3.4_2.12;1.6.0 in central\n",
      "\tfound commons-lang#commons-lang;2.6 in central\n",
      "\tfound org.scala-lang.modules#scala-collection-compat_2.12;2.5.0 in central\n",
      "\tfound org.beryx#awt-color-factory;1.0.0 in central\n",
      "\tfound org.datasyslab#geotools-wrapper;1.6.0-28.2 in central\n",
      "\tfound uk.co.gresearch.spark#spark-extension_2.12;2.11.0-3.4 in central\n",
      "\tfound com.github.scopt#scopt_2.12;4.1.0 in central\n",
      ":: resolution report :: resolve 2131ms :: artifacts dl 92ms\n",
      "\t:: modules in use:\n",
      "\tcom.github.ben-manes.caffeine#caffeine;2.9.2 from central in [default]\n",
      "\tcom.github.scopt#scopt_2.12;4.1.0 from central in [default]\n",
      "\tcom.google.code.findbugs#jsr305;3.0.2 from central in [default]\n",
      "\tcom.google.errorprone#error_prone_annotations;2.5.1 from central in [default]\n",
      "\tcom.google.geometry#s2-geometry;2.0.0 from central in [default]\n",
      "\tcom.google.guava#guava;25.1-jre from central in [default]\n",
      "\tcom.google.j2objc#j2objc-annotations;1.1 from central in [default]\n",
      "\tcom.uber#h3;4.1.1 from central in [default]\n",
      "\tcommons-lang#commons-lang;2.6 from central in [default]\n",
      "\tnet.sf.geographiclib#GeographicLib-Java;1.52 from central in [default]\n",
      "\torg.apache.commons#commons-math3;3.6.1 from central in [default]\n",
      "\torg.apache.sedona#sedona-common;1.6.0 from central in [default]\n",
      "\torg.apache.sedona#sedona-spark-3.4_2.12;1.6.0 from central in [default]\n",
      "\torg.apache.sedona#sedona-spark-common-3.4_2.12;1.6.0 from central in [default]\n",
      "\torg.beryx#awt-color-factory;1.0.0 from central in [default]\n",
      "\torg.checkerframework#checker-qual;3.10.0 from central in [default]\n",
      "\torg.codehaus.mojo#animal-sniffer-annotations;1.14 from central in [default]\n",
      "\torg.datasyslab#geotools-wrapper;1.6.0-28.2 from central in [default]\n",
      "\torg.locationtech.jts#jts-core;1.19.0 from central in [default]\n",
      "\torg.locationtech.spatial4j#spatial4j;0.8 from central in [default]\n",
      "\torg.scala-lang.modules#scala-collection-compat_2.12;2.5.0 from central in [default]\n",
      "\torg.wololo#jts2geojson;0.16.1 from central in [default]\n",
      "\tuk.co.gresearch.spark#spark-extension_2.12;2.11.0-3.4 from central in [default]\n",
      "\t:: evicted modules:\n",
      "\torg.checkerframework#checker-qual;2.0.0 by [org.checkerframework#checker-qual;3.10.0] in [default]\n",
      "\tcom.google.errorprone#error_prone_annotations;2.1.3 by [com.google.errorprone#error_prone_annotations;2.5.1] in [default]\n",
      "\t---------------------------------------------------------------------\n",
      "\t|                  |            modules            ||   artifacts   |\n",
      "\t|       conf       | number| search|dwnlded|evicted|| number|dwnlded|\n",
      "\t---------------------------------------------------------------------\n",
      "\t|      default     |   25  |   0   |   0   |   2   ||   23  |   0   |\n",
      "\t---------------------------------------------------------------------\n",
      ":: retrieving :: org.apache.spark#spark-submit-parent-1ba43c79-c5b5-45c3-8320-61322bde74a8\n",
      "\tconfs: [default]\n",
      "\t0 artifacts copied, 23 already retrieved (0kB/13ms)\n",
      "24/05/22 17:58:48 WARN NativeCodeLoader: Unable to load native-hadoop library for your platform... using builtin-java classes where applicable\n",
      "Setting default log level to \"WARN\".\n",
      "To adjust logging level use sc.setLogLevel(newLevel). For SparkR, use setLogLevel(newLevel).\n",
      "                                                                                \r"
     ]
    }
   ],
   "source": [
    "config = (\n",
    "    SedonaContext.builder()\n",
    "    .config(\n",
    "        \"spark.jars.packages\",\n",
    "        \"org.apache.sedona:sedona-spark-3.4_2.12:1.6.0,\"\n",
    "        \"org.datasyslab:geotools-wrapper:1.6.0-28.2,\"\n",
    "        \"uk.co.gresearch.spark:spark-extension_2.12:2.11.0-3.4\",\n",
    "    )\n",
    "    .getOrCreate()\n",
    ")\n",
    "\n",
    "sedona = SedonaContext.create(config)\n",
    "\n",
    "sc = sedona.sparkContext"
   ]
  },
  {
   "cell_type": "markdown",
   "id": "91d4e6ae-eeb6-46ca-89fd-8f82e6056924",
   "metadata": {},
   "source": [
    "## Read GeoTiff files"
   ]
  },
  {
   "cell_type": "code",
   "execution_count": 3,
   "id": "58c05200-27f7-46ce-b2c5-4c1dc058c96e",
   "metadata": {},
   "outputs": [
    {
     "name": "stdout",
     "output_type": "stream",
     "text": [
      "+--------------------+-------------------+------+--------------------+\n",
      "|                path|   modificationTime|length|             content|\n",
      "+--------------------+-------------------+------+--------------------+\n",
      "|file:/home/jovyan...|2024-05-22 17:49:30|209199|[4D 4D 00 2A 00 0...|\n",
      "+--------------------+-------------------+------+--------------------+\n",
      "\n"
     ]
    }
   ],
   "source": [
    "geotiff_df = sedona.read.format(\"binaryFile\").load(\"data/raster/test5.tiff\")\n",
    "geotiff_df.show(2)\n",
    "geotiff_df.createOrReplaceTempView(\"binary_raster\")"
   ]
  },
  {
   "cell_type": "markdown",
   "id": "db66242c-d0b3-4348-b2ef-4344d266cb4c",
   "metadata": {},
   "source": [
    "## Create raster columns from the read binary data"
   ]
  },
  {
   "cell_type": "code",
   "execution_count": 4,
   "id": "36eb9e36-cbcb-472a-96c6-79d49305cf66",
   "metadata": {
    "tags": []
   },
   "outputs": [
    {
     "name": "stderr",
     "output_type": "stream",
     "text": [
      "[Stage 4:>                                                          (0 + 1) / 1]\r"
     ]
    },
    {
     "name": "stdout",
     "output_type": "stream",
     "text": [
      "+--------------------+\n",
      "|              raster|\n",
      "+--------------------+\n",
      "|GridCoverage2D[\"g...|\n",
      "+--------------------+\n",
      "\n"
     ]
    },
    {
     "name": "stderr",
     "output_type": "stream",
     "text": [
      "                                                                                \r"
     ]
    }
   ],
   "source": [
    "raster_df = sedona.sql(\"SELECT RS_FromGeoTiff(content) as raster from binary_raster\")\n",
    "raster_df.show(2)\n",
    "raster_df.createOrReplaceTempView(\"raster_table\")"
   ]
  },
  {
   "cell_type": "markdown",
   "id": "3932eb9e-aeb6-4abe-a986-f26a11eb1fe3",
   "metadata": {},
   "source": [
    "## Operate on rasters using Sedona\n",
    "Once a raster column is created, you're now free to use the entire catalog of Sedona's [raster functions](https://sedona.apache.org/1.5.0/api/sql/Raster-operators/). The following part of notebook contains a few examples."
   ]
  },
  {
   "cell_type": "markdown",
   "id": "1b47699e-8ce4-4859-ace9-d12ea1f4d0b9",
   "metadata": {},
   "source": [
    "### Access raster metadata\n",
    "[RS_MetaData](https://sedona.apache.org/1.5.0/api/sql/Raster-operators/#rs_metadata) can be used to view the loaded raster's metadata (orientation and georeferencing attributes)."
   ]
  },
  {
   "cell_type": "code",
   "execution_count": 5,
   "id": "6d635263-9e8b-4f74-9b91-d360d196b966",
   "metadata": {
    "tags": []
   },
   "outputs": [
    {
     "data": {
      "text/plain": [
       "[-180.0, 90.0, 1440.0, 720.0, 0.25, -0.25, 0.0, 0.0, 4326.0, 1.0]"
      ]
     },
     "execution_count": 5,
     "metadata": {},
     "output_type": "execute_result"
    }
   ],
   "source": [
    "raster_metadata = sedona.sql(\"SELECT RS_MetaData(raster) as metadata from raster_table\")\n",
    "metadata = raster_metadata.first()[0]\n",
    "raster_srid = metadata[8]\n",
    "metadata"
   ]
  },
  {
   "cell_type": "markdown",
   "id": "713bc8db-3143-4a79-abb5-08ad81f9393a",
   "metadata": {},
   "source": [
    "### Visualize rasters\n",
    "Sedona 1.5.0 provides [multiple ways to be able to visualize rasters](https://sedona.apache.org/1.5.0/api/sql/Raster-visualizer/). Throughout this notebook, [RS_AsImage](https://sedona.apache.org/1.5.0/api/sql/Raster-visualizer/#rs_asimage) will be used to visualize any changes to the rasters."
   ]
  },
  {
   "cell_type": "code",
   "execution_count": 6,
   "id": "7fad137f-331c-4c2f-905d-dbc42cff11b6",
   "metadata": {
    "tags": []
   },
   "outputs": [
    {
     "data": {
      "text/html": [
       "<table border=\"1\" class=\"dataframe\">\n",
       "  <thead>\n",
       "    <tr style=\"text-align: right;\">\n",
       "      <th></th>\n",
       "      <th>rs_asimage(raster, 500)</th>\n",
       "    </tr>\n",
       "  </thead>\n",
       "  <tbody>\n",
       "    <tr>\n",
       "      <th>0</th>\n",
       "      <td><img src=\"data:image/png;base64,iVBORw0KGgoAAAANSUhEUgAAAfQAAAD6CAMAAABgdUV8AAADAFBMVEXE9/W48vOq7PGa5u6L3+t52Odn0eVVyOJDwN4yudsisdgUqtUKpNQCn9ICnNICmdICl9ICldICk9ICkNICjtICjNICitICidIChtIChNICg9ICgdICgNICfdICe9ICetICeNICdtICdNICctICcdICb9ICbNICatICaNECZtACZdACY88DYc0CX8wCXcoCXMkCWcgCV8UCVcQCU8ICUcACUL4CTb0CTLsCSbkCSLcCRbUCQ7MCQbICP68CPa4CO6wCOakCN6gCNacDNKUEMqMGMaEGLqAILZ8KLJ4MKZwOKJsQJ5oSJpkVJJkXI5gaIpcdIZggIJcjH5cnHZcrHZcvHJcyG5c2GZc7GZg+GJhDFphHFphLFZhQFJlUFJlZE5peEpliEZpmEJprEJpvD5pzDpp4Dpp8DZqBDJqFC5mJC5mNCZiRCpiUCZeYCJecCJWfB5WiB5OmBpGoBpCrBY6tBIywBIuxA4mzA4a2AoO3AYG5AX+7AHu9AHm+AHW/AHLBAG/DAGvEAGjFAGTHAGHIAF7JAFnKAFbLAFLNAE7NAErOAEbQAELRAD/SADvTADfTADTUADDVACzWACnXACbYACLZAB/ZABzaABjbABXcABLcABDdAAzeAArfAAjfAAbgAAThAALiAADiAQDjAwDkBQDkBgDkCADlCwDmDQDmDwDnEQDnFADnFgDoGQDpHADoHwDpIQDpJQDqKADrKwDqLgDrMQDrNADrNwDsOwDtPgDtQgDtRgDuSQDuTADuUADvVADvWADvWwDwXwDvYwDwZgDwaQDwbgDxcgDxdQDxeQDyfQDygQDyhADziADyiwDzjgDzkgDzlgD0mQD0nQDzoAD0pAD0pwD0qgD1rQD1sAD2tAD1twD1uQD2vQD2vwD2wQD3xAD3xwD3ygD3zAD3zgD30QD30wD31AD41gD32AD43AL54AX54wf55gv65g/65hP65hj65h365iH65ib65iz65jD65jX65jv65kD65kT65kn65k365lL65lYAAAClKDryAABmeklEQVR42uy9B4BkR3UuXLlu6u5Jm5N2VzmAEhISVkIkCWMTn80Dfh7YfoBNsnm2cXrGNhj7+XcmGCfMzyPamGAEEsoRARIKoLTaHLRxUnffVPE/1bOj3dmZTdqZlQS6oN3e7tt9761T5zvfd+pUFfboueOn7SDPNcFzRn/ueM7ozx3PGf254zmjP3c8Z/TnjueM/tzxnNGfO54xB3s23zzuZZbwvjd87/Vz+aYjaren/x7woU6Yeo8YTZy/18L4iL703PEMMTo+hJHx/pabycJ+2tf3fbi3U+zrI/i5LvD0G/1JFMb7W2+aw8Mb3DzFS+zfS47DM0aVrPdHoqNqhZ8iox/wxHgGcMZP+QpTMGGujmb72Bvhp8fo+5tzr397NLOZ8LFd5ygebxVaj1ZuWFHS7fCPBUQpLMiu49MIx9kI7Pja2c/kkT0iN60B8Cxc8qgak/rFcBeWFAM0QjuPR4v4/UjH8TT9cfZ0PJVk7b0FfGBDxNVsNapQR/eVk7zVbCNCJyu08ScWb+fqcgcYdmZ2g/3+1Hx6VycOH4vFMSL8KHvPakPN5qcv3vlnrdH3WtEf/BKTQI+nieyppyblccP2fceJa2ehDZKSxp2nEN6PD9DPjadjv5/Q3l+fPflyOsof5phXVO7oboJaTLA+nt66yBVdeC4mO0dl6RkSTP7wdtmrdv0zxuh7AR3vn2WZxPK9vXl6cuUw97+iLAp/dI8WlUcf1J/y0a8KhllxhLeGpwvM/d/zR44NeIpjPe0UAh/2Rp58eI+P5KbnjdqjugFByuPm5f2+jkeeisFnSks8u+D9CDor9k85MbFIDx9pPE9QLTw+XjZfZBwxo0ffRlNdfdJvjwaz8dMP7wekxv1UpH+S5Xk8U1rmCFKmfR10BIG9aeu+DhWjx83LVyhrZ+iOUXVYY09Q3gMGDWYIefhJIH/GeTre+5MHxOt92L0fR/X76ZRJox/W7MtHlTqS28g0Lo6bydHJuZWbZiCS1Dpi97Jaf6h8kz8SZerxNHo3Jaw/ffAuQ9A1MyPYDOkZvL9OOQLmukgNo/Rw5kxcTW2Mka6Pj81XOWTxdHEfO6InmsLj2bqU399k09jgrBk9RqWsDwSqwx/M7vfD/sAIvs+h8UFb5BD3ddLmQ7t7nzWkS3gD7z7GNn4RuxVdfNeRaHvn3FSzp14jSzzYHc9qD/OH/D0/41DWURh9wBprqfHUIwedyjOMefvg40qJn8qahDfMHJKlEjvZQQ6Cc2K6q85XY4vbwhYHH3AVSlZx3HXHotCvJPldF+qogO5OscP87iP72gl6277mQMYjLZCSx0syHoXOP9iH8yhSDltUMesmrEco8xIxg5FEiqOyZ37p4Zm49xGcq5uu3Y8UohMdg/gD4tE+SPdTBd1UIHjS7pii6YZbAu26uizGD4NPTD51Lz9XWOW888hSAl3+x2cjbBkn353pVHzvAcKNIE18uLumcxBhwN/J01PAcYDqZ45Qi3EMRLiDcN9MJHe5y6lXEKuY1ZZRjIzlKDUCOq8JncjTIqOOjIXIBdKIYuvAXSnm2MBjMkIw/FtP2t3vzcD5fZVRfgofncrfKPW9Tsb5QRJbC8nYTFoMN9ohXY8Ep/GOY2iuc711qo4cdHEw+gNnhgHAHt4h/sMDTn0+vr/n4hsnYGgXhBZn4OEphVbNvLHeHjKGHSejT8I+hluDp6JYyImeud+xVDlpnbN4nODUYYhXocd770ghtYsq4nsG4iytOx5L45n1TmgcfNMROJsoTEC47ocmeKon7x97JvjIJNYLjADUpQFlxohJppv9DGdz3ZmZY8hqcXnMQu1sY6EPE0dNZKRDDrDtx+eXTDFNEX3wXHLPxFmWsR9M0DjjPMZaIw/uQIyxjvnMuhoiuifgAsHVp1EufAwWfIrnTTgYQQRTHHkSezKN8yxEhkYFs9QSC7wIQWjTHpFcgmmNKCHWh8AV99QpcdAXuLVCESyJBWCExw3G1Nj7aTFkqjJ98iV2e6l3NREbOHIufC2baveTKq+xLWZi8NmCYx8qubTu0hpjxcItQEDT3lJsoC9DtEPcAYoxxx8IPv5AT6z5gqidCyh4SKgld9Zp6OsmQhy3HbyDDUIYPUMO7COIy9AxLaB8DO3Odi5lsjpAbM43TlAAKJNzr/BAFx6jQhS6L0scGmcKyf6iPVEDAI4BPcg6KscmWIw5yjT5lNMbxtXAyIgAtKFWoub2fZ+thJY3Op8S7Rl1TGVjx9wsV4w6rMC3rWc6sSRY2wZsdvRBMPI5yrsAkFEP5E/BuEuIB4zzmmrAQmxICHKeZX5M75dde9ow/cC0AfRcpoWFvgtOOOg9FZ57qdm6nv7gEJa6SABiWV9zWQN8E41NiJaGVBTCAjw9VRXWzPSBWRR4Z1RJ4ozAuDOp172bfhsHNsJk2kZO4ekZUCgMThZyaoM1Q2T/nPZJ5Sghld0vCR/FaOSMh6brLYfvQpdUFp6UkbuOyObl3c9HyIYyKfBsTAkwcIA05xjC95+D7puM+QB5xnATAE07x51lNdVEgWdrblI0Vjvq9qIbcXNvzSM6iTtZUVol4F0E70Xe5YDgYv2T2kOy2ilCfUVrL52wbc+EYpiBBziB87rBi1IA7glmLLQIB1zfAz+sCRivfzT1RWwVd+4IUj8M+B7ep82GILgb7F0nBWqAZQjQi5+Y+o1zRs3WdN8w6/yBRw7645eAIxqEgbniI7H6ZXXBkeUq+PNEwH4BCD9//9nAWYndG8wB2QH8LKgxr4PnG28odI3SRybgDd8ROjD2kxMx/DMF2oEuGQaxmXjJ9t3V6nUHZhyA6lUC0MvIgogK2IrnPCDxjkQx4AHw6B5ICzI9shMDgORSKwpY207z1EOD++DGgd9MVsJNdEjoaoH7wA0Q5BSKasE86U50Pr09EEmDAmD6yomF0/ObZxS8HJ6k72z1owd90pdXWhi0W/MV3zkScY50DXerPIWAzuntCP2Mpv676IJwr0BisQmufhZTwGnB4JYakCqABtZzULXwPQ5wvlNia0F9xNrs5U7HbPZjZv7UoqC5MfcuM4wOT+2KZ98/5eRTQZ4BqjMvalVQHsL7sF/kjMljpHGkGdPwYYA3ZBEh0hNl0sJKN96CVkHOFxPJEuL39vwefwzPQMOfhNC8B+bdXgvNq0JgWDWBNqcXo44Ae+9K2XdgX0SndTuknKTv87L1h3rgl21e/p0japnXdlAJTws35yjGBEx+qQ3d1ZEQ1cN//odnwaMCPSUQ9z2rIZqR8KmlioRoo6VRoNErGqAC+kPg8n4vP/V4Vs14tFaHmIWo1Eh6iFpi10E64ioC9wU03IMqdzkHzjqOBqg149wSgHNAXZKC5UDUMAIt4AGSEQPaFUCvAkcG7Qattze+I2AB8PgkRPnQZjZEFYKnptuG9hyQ3Srh4nzXZC+YepwyXOUTfj4oZqOi7Qo57oLhLGbc0+iGiQDPQK1+94V3X4iR08GCP3xeBeDIPcMGOqmDeO2QIQYe25BQTukMRHatIxBtgI8QtqDtHHazar8j7y8guzzFcBeREmDL4HIMmFzMLd42o9FPV2tPIVZ7VgFL84YJkGOE6qog41mqgbjk1uOW5z1sDyAMtA1bJhCukAxxEYOFQ15uYCRQCOcB/sEneg3Qu2ugC3SK1J4XJOPKDWgRAnhftmXizcUOb5/5iZa2ix6TI/N2zEJL/kyhoDmIzIVnjEQT0HDxBA0jgGPfOy8kon109/NqBGGRQBSvCAc6Bw0Lj6WB14CkcMQ4cPKgbqwSPaZJbMXs0xLDhcGgPtJxQQxTPihqojIXEb7tYEzjnPvO+tEZjv74jAKCmQJLal7No7oxPu5Y6ng+2ihNK7IWqAs11nDAQfB0OBe6VAUxL5ShItqbJzCofDcBiruPqoMeIsT00rczJdsAgOBsvu2gTGMvxA+PQatjMXDsjn45sG2XcZOV3ghQMfK6CVaH4ffvvEL1xlwuVsaKe9FZAFnOUYA3ELwuB62rQ/rNldyAkQ2WmhQUQF8Gg1fY4XZcAv2tjzObi3qEJ3Op2NYwQK0o9g3tYvbEoXPvZ99/5o+fF5ivw+C1Srtk/YWVNmugtcdITY1yBRnkwLxB8ykghRh6PvAzn+SE1cDo0e55eNfCwMYo8MAKebf3MnAqCDvoIDOn1FZoN5E3IoRtODTTvvXiYnR0aNGdx9xEP7vLlpxFXtbUiluuwNG3em+/GKA5aBsglPXdCJ2vLf7ROWMxsDhWx04BnGmpDBYKRD2yNaG1pS41BivlGA1xnivPCmwsB/vDYwOZopNuz/HcDcPgeRMTNZZuRaiFEdXYpdBZ0/WHHHDpZRov+P4FRtVA3ijIki5/GHyu2ZnIeF1mu3x01PgGNjQjFTw94TkHYSRMUgKDcUDvDNe7F1KgPdpR60HIUwTiJlA5wEeQNsVBB6owg4gZUjIbD/t4F9fyrllopZdv44xlisONIgHgbdk1r/kq+vnc82v3nnHh99Dz2ZikOr33PF8DcFJWkYqVCcYQ50DcmhA1Demz0A0gkAMJCHGsdLKXfOdFDGwfAr2lGGKj4cIYIAwKe3rs4B9GveFnCOgowBuU8H156DQSmG/qlXSf+uiRDa1e6HGVGCTuvNQDl738lmlosNvwxhh+Ynnw7BaQGAjcIF2AIgIZqIHtOOkQcJwAKkO1KYMmDzoHTuD0YKNkK4x/Yj4LPA9PGH2V2zjHYPiL1TBqkZp8+/XqG68ALYK/9YZ/n+wO4N5C5054XLNCVkinqLY8DC9JVyda90qsvXcuccB5bUujrm146LWO6AriD4cuDygPf5rwwoKcRdwrqrmSBdPo2I0eifF9xkd9wunJpl2oJN98dEOrAUAnYO6mV+y+d+Yz+kfPbTzWFwYQaUkQGFokde24BUbPFGG0Qzn0smUedYkN9gcaDKG/FgRTgmc0+/LNy7YsR4Z7IMkUwZdPqTWfa6u/elySAOmv/hp65TVXCfT1yQ+urrv4bnQhATJWlnGVqkJEQHBi6uqKG0y9o8B4hAXj1cJwxVKjayrgYRUwPFZXFGyMSkIpNLKyMeh7DsoF+TIk5S3QAPgcOgCxRId871M4+EHDxAIdka3oaI0+cbzi2qu+jaAxZg6H47df7DbRJog7o8EDugMDNdUIE9olKK6pU6LGFUgaXjmmx1vjDVOmFpcRxQLNXC98ktmAlgfuQyIFEGiIjjn98Sya+C2f/W/uP2b85PWVufblnH913zsv1hDCHZA0WSVwR0pzaVV695lVMgp41t8GT4WYpj2xUYE5EBjkFVBBiOsgZYDXFwZYPDNRHWlLEIlqkHFA9CxEdIxrTlAYh7UcUMAB4Ft0tJ6f5AezOPgX8gctKaAfOuTPXl39483g9NfP/Ol///obf+mXvzACVMc4DMG6UXPutMbSk1ji3kw0QUHYMoiCGP/lyAAif4bzP/8wC53tL3570f+a/pPv/bv3ob/myANRAhIJ3/OemPfOotFfiz7Pv/QfX33dAW+/6T9f99++4v8dGMwb0S+8IUD759+MvgB6RDgufUhg8hxlYFap/xU5L4mguQR3JuDoTdB78JRACjhJHfBWeDfcP6pFF0CN2RDZcQRED9huXMSVRBRFnKvEcU4kSD/M+J9WH5Wgr/hRmN3/3kE+WEUwIZR88r1PydNfhg6Tz7ryxp+rx9reOgKd12eWNUpv4yBrDUB4HepBHRwFuAxB29A8tHsQHIOEFSYgIAD5mCbEVwNxhGaAOEnjDqh7ahsu+cEsWv2X7HjM8GcO7L+fhz9e40nV+NIEiLkwNq68gMiLcgy+yVgFsZlRUnvFC2kIR7LE7TAIa5yOQ/YVRCxGisEXgb0D05EsJP8h3DkAbwrwDq+Vs2nIVYUfiSAyMsMQMDwIkQbUPTz2kVqdHbQebKVzqhqAnikeOlpPv/Ktl7z9LW85zJXfit745Zu+LIuBlOEoxiDZGqEwR2sGrg3/9xR6+o/f80lJOcV/87ds+0LEOLzLQvWNpYT85d/87a9PgXdQdX7dxyFaYp6z9e/72/V/r5n753fMntG/8elrmfCvnvLe2/+DvQb++ir7jze9YeKdz3UJiwn4M87hqRjw9QgilkjAFcNwAhIxixCTYTgnySKigbszRaXETnCAdNQUgjUzkLTQLh5AT1C4aI9u0TgMWGoiaQDzmHIJvQeN/G1IaEeOU55Buxw2j0fc/z7YRyd5W4jWiGg9+msH+/LBvvriG9HtR9SI8tW3NRfzqk9kAwlq+DHfn3reZGks3T0MYBHIy/kplesFPN3mFSKRu8So4FTEPA5Oov2KlSesPmUyLxQyXg6tWWs3cSAJJ6xQq9a5Qtz7otky+S+DlLJCqbdPefdf2WfejP4H+tKXfnHynWv6JAHwxZ7IBHFdAxFrg+M7UgEZJ50YW8watr4vBY6X57bBAKgzGZMkhf7BYqYUQBuEbYo5JcLHKQgA41nFmceWRlKKLQi6S1+WCgSowBfhfvgaPLLLqaaGH3q5iNgfAg8EMqmoEk0OOeZ27MclhtSIcgcqtePoEgNP6JnSEAiNgbZDBVEh0UFNzScCHOjabUtA2mvOgMwAOPRSB2eDpAfBS/DjJ7l1qyCerzl5DUKnMyAKEfn+bNzo2xn1/4DQGyPrPzulL7jii+jN8l+ChLP4y2+qqdHEeA+YlLNuN1IkhruPhB6TjgyDIEfcKR7rQrNcJybStUQqRUJhUlFiaGlANiteh+QVc95BXAdbO181JK6QwRGiHYZB1jdqT9MSqDyFWGEtL9EodIOShKSPxhNFrRhHhlTQchOFbqBrUmy6B33GM+w4jdWSu9DRGP3FNx2dzo0/jV6py1ziRm4Y0YXM8cKJYVVsNURDLxx0cQbExrkfn/UjdJIzFCRLuDAPw1AEnsrGIfycjXrjfKeSh0+GkPo4Ok3Lh84EfSvi+JazWne85IZjNPn/kxDiPx5evQOo1Cf2mfyffxk4CYTZ2BhoEMsgEkd2vG88jLPEOcRdrVgCCC4MqkpRMs6GXZQWEfG57wrgsWkJSr3Bauy4sqA4AQ6g74IUY3WvLk3BR5greMclHYkq2oe7Vvo27eT9mceiS/NdK5BxFFTW8jYBKVDpkNAPKW0DvU+GdVG8ItANIL6ofiXEjvlebj0w7TIxdNJNOkMPHGow5kMzxOmjOl7/hTegN73lP3WVApFBIM1wl3fLJjPCSxryjxLhkNbzFh77Hf/wLvTeT5BQQ0koB7dja/8eOgcX7F3nvBO9858+9Y6zPvlx7z5B1rzv43//MSLdr30CU54Y8s8R/Rf61mM0+muudRRd80r0lmuBk9Or3n117913XmP/K9QYOBuFsghGWRjWpT61qc25r62praQNAlE4FxDXo36rWYljyySYAXi8oRy+7QC0CDxyoPGgzkGDa8EZYpRSiSP20D8JlKTwKRLgq0RowsdHQbaD8t9d65Sjv2aYyo3olI9CH++FTSY5/ADjEt6PeeA6PJTdhaqhOFH2r8Ft/v7Xl9v3T3vMf6Ppo++aiaTNLrzD8YbtnXArnLgOq7KNjfktXRMkNEgXnQDPCSX0DvF7zrP3n4EeOsnaTSsJaBXqqHMo1pSGEoUXaFC5yEJwgHhKa1AeWmDLcAIRgXm2Ny3+lI93Y4c/Frp1zIkVmv4NvH4X9pbXwLWoRwZItIMrYQ1yC8zD4O+8r9SllGBdQC9AXKYKjrquSmWU3/bSSsU5QDpnCihdDDEMMWt4G7i90156eJ+ATjEUeoAXJvK+5AoCu8K1qK2vRN7v9Ch0HhP1Y5MWj51VB4iEuMKAztfwHUUr0mPE8AYgJ8jvLphsES0ZxAxKgANMH3u+wGW3HLaOZnaO1+wMteoUdFrJ7EjayZbVFXhMyG64WFFrndN1hH5wDv7h2dZqhNecEmYTMGhGCTBI8PcvQvAo+aPP8z86S5OImP6dIuSUge+DIeJrZjML96tYePd38OJ9ICqRVrGvKQsD6t7wCguLGETOqhtTlBcxdTkWYawIVw4Z0FXdxjBwQZlYQkxNIuWtAbGGCaoiiFw1V6BQURhKxsxCxwVQgKuEkguvhQWw3lnOJ7UchyjOsKlV3CmWgO+DbgsTC3iQcRAsXBWq0HEuAlomRIdkj6PeaMdEi1gEKpFsQOi0R2YYLjuc2putZnzrV9/QxRvSBjyhjLfx7uCwohFIUENdYjgEZhkCHohb8HcBTo/9SVSAegWbIlmHYHUhUqKI2FnuobNw4nXExzmLFCCkF1EtwOYhNzgrx/uQEPYv349+hRMgXFjVvgxFvwjMPd5ACRgSmCOuYx5VNc0AiJNQTkLhKZiRRgDLa3rdr8CFuSehskiATKFFUksrDTwkSFEGURz6jQLpGv7vWW/4GboR94VqYZ2SDgIUzPII9HaK+jUwRqBnvRkGEANA7BNqEJEK4gUCAQAeA6rPQ3hygiVVyyvZZglCz5thlubhbD6Lnv7GIou2ulrJtMu6VI70d5YiDowUU68UjpTFQOq1k3ecx5yTRWDG90OfPJsg6WtoMxCvYAAc6lBcqLJ64IVI3jolJslvzcqNvv9vJl+9BzAerqdS6pQTbakjy0yecKDKAMmgNkSHY1uD8qp6U5xMD5rqPEIGmGmZAcMPtUDY1aHO3wEqwa2D85LagyzEBcCcDPUzTUA7Q4HV2lFQKvEeMGfzsRPXngzQ5zFKIJLxQiWCKEA6Qyu4cn8Fgg8s7+oOBQpJw/IK3PQmVCgiQk1MuG7QPGfy+45+9HUWB/jf6L6E3pJXoDQshZssBodwXdUhG0ux4tC8QJGpBSdw9M6LwiATpn0dHVdSRaQWKGAXoSXwVJcUsScinhjavJp9o5c/hSb48pv/72zd7G//+XtAOhgIxAhuLsdVWiGXqMqnyJahECGNHPg+DYWORfI59BZFgI6bUBVpfJk60CUhwa1DKSwCQIuc16FMKjDvUF8FZ1qPlDTcQffGtIYnRCouSjyiybJ8SLmB688aD4zc9g0IVAN8UwVaD6J/xqF7cQ0yl+ZWWdRysTMFDdOHjAUixKCtHj69QKx1LzoP34OeVqP3kplvGRuPUmUiVYuKLIZ7LhMDbQvy29q0rkG/RFhVyN59IbQn9neDyNfGC1pydPcLjMP8B2Fa4GUdMfRNdFXXx43/nBwMCwNv7HOzcp+/8VfoA8YGlilrx5ToJHUXVAIBPhn5TtoOM/3gb4yk1QaCEwUX42GgPCyEAcb2iuLcUyBZzgTvVl5y5AognQDuVjssagdPaituQKtRDdCR6a6LhStUblwdz+ssxAJ+eqwt23GLZjHqxlUdlxY4XBMgIVICG373GbVGZZLIqPQVBEoweM2BB+AHz8CVivhDoe4BPd1G/x87l5DNMiEAgUWjc+PF8xuxy3WsrQ2TVbwOhcMSaE+v5hJaeW9G4BLtQcABxTGEWeV5bH3dilEJHeRrkz/9C7Jm1LLPzI6b+1DgBkQpCGo+lu5sBp1OmXE+++S7CJA1YJA0LzLwbl/LimoOclQD80beWab+v7dbIwoXSsSA8gvo2sKGQlkQGo5gBT4LUh9jA0QAEQBjBx8VgAjs9iugu6C83e7v4woe2bTrkXlJ3mixbjruQz0KsEhmdFBnkdL3neZKnCUxwA1wXwiAHHRA4IiupNw/vG8A/OiOw4yyHeXxnf5PfbNsxqgCHdyNPmfzpCj6K+6AvwlfxAzcBbzHMAvaXeLbJoXjV0ioj6JEijq4VCQ174ssjYxL3/CkJHzNG173mm9/+pd/bjbu86UvvRn1Klzgf3FVAcmsd46jzQUjGbvOCEEFkDGwcJ1JAKEGRRx4FViU8H/4uWtB3X0NeDvGX/gvTiW4r1csgY+ApZMQwb1gYURJhtm+gnBJGXwbZQmPx+uvupw2r/98Eg3rjGRO1PE4a3DfJiHjC2ywYeNSKjgfVDl27JPI2v40EdCA8KFlPKKUuTDZyqP0wfAkn/n0255uT0f/0w3r+bEvy7gcK7OSQmRbiGjIAofgBPTIAEK5UCZvIeKBb0sXOByDjz3+zs8XYQkAIPogicKEAWgG+oW3os+g2QvlTx6/izTW4MEgmMuxkdZoc6gthUCilzsBAOcjOmbjgnLHePGxDwC3J3/dk/oefPyf30oEYBUjn+r91tuos8AEa/JF9EZA9VAzG+ZqaKvqyH8bvRaxL6M3Efv516POPNFtAxCAmi1Mc0FLb4CAYiGq4RZIeOuBqpGotlhrTkEeYl/QFhdRFeYGhkDDFYkKj3xhxfwbw6Vfec3TDu/o7RHcXWJ2OIE3oNgOgqpptAoZ0FJjYZQLw2cUGpt60LMeghf+Cnhxrz7pZbhm8prXORJrFGbBAjWCr6WG/St65z/MfsHM71md674d8/GePfMXgh6vh/yH360ThLkhoK55uw2wq5tARv42nP47BH0EmD8FDUI0M96B4v67vUEN9FXJ8ujfQqY3xP8wHxOYnPMQLr72iw7Oxhz5jY1WO0kBQYajEuRaPOq7abRrsB99/VVKw0OHujpKa+YVhD6FhLQqzCpLmXTGAS9SpNYp8OAwG7rkC6996o8+u/CObhI7I6u6eT/uhuV8yc4y3zXPbwGAtAB3IDSJhxgH7UUlEDodxxK/HqHPf+31oablPwEKvyRipL/87whHEePsc6//tpPkVehnZ9/mv9Mb1s95ku+oTnYKsRh/GF39qq+HWtBQ5JnLlGY8hZcTCu8l138U/rzVUhZkRxgcxhM2//XrZU3DhP7kVSFF9U0Wkq+URVQwzjP8VZaBEBFjjw8vJdlXrskrX2sV9w/1R6uWroiqVVzpr4Y8XqslUEYTIhkJaU34EQX4Tvz8RPhQTupDR+LSiZs+6xWKl//XgbnVozhmeb13A7rLjgY5nlZ1U+v+ktWdaHGRIl0OuZBWAmrDQd+EwTYcQdN9Eb3OyTAh5io3XxNDoo6Pf8VzKnAY8voVL/4RzckR6lUiEJOJXvyEiT7y2+0m71UgKdLuC/zChSKPEIAmW+jPwh8fRb/OQo0AQLnYq/oVBpFGjUt6izC8MwIgwEwoygJj8JLaOgLYzs4UGzy9YhE2IBcqNRbL8SZG/ZGxTJg6dhlI9KYN6XdWExPVuFBxxT10ClpQHJaBsBjFUVukVyEqknRS05DX/ufTDe/v06YsBYhW1EJP5KzlxfYqxgs9cDdvs7BWhS0JoF8YJbSISRCmn0Nvxu5zb/v02yrXH0D8F3A+xJBh/zQ3tv7dP9374g/DCO9wX2q1F38I//4TU4oPB9QvhimNYxYqWrEH4SQPwMI/+O5Qww1EOjGm91u/WVgG6kRnCusI0E0DbQFFL3YnwO2cNaUkVgCoVXnkRvcMk4EFJn1wpUFDIzY/Ix7DzHCzm+my1QQRLoDiFypEcEB0Njq/z8UQ8DVV2roqFD8IZgqbtCbrddHP7l7ZCytPp9EL9gQdbBMRj8aJr2o+2tat4VMRiSBgRbXEWBmvY1wFRzKBzuF/Q++oQLtQiPmfRm8Ljp6BZBGfmBOT/55XXZVq4aU1mxYbOfRH+z77aIXK/zMh6NbNizErgVADRefTK1T+z510ZIWft2vJn038+7dAyRtkmdepA6UeCvywxpyOgeYf0IiU9wH3JmntH40Xo6IZk+eVIA6Mb7ONQ5qzGkQahPKuyqCJHK4NdjWYt3Q1FouwoqH8oAxqrmSp9V9Hb/zCk3fy2sSy5FNPs6f/5pgcQXWzZqECrqjnaV2oZo01KLUF0E8dxEMdlKwOk39AuXMDIP4/K4DDTwbqb7kH5ucaRcLxX82No1djg6DNx6KhICd83//eLzX7UbfDf2ziX8TwdHRkFQdvJ78//Vf+hOz2cpud1/rwxI9OLFIjw+AYtcJYbDjS0j+6gUU7V9RJsvTvzu46vGh+SxC24aR2g7IkzJ9hthoZiRPGBMpZFbLQtIbGCrVXgIFAfUaHeKQpYrU1pq5DrcnglDzFWz771Fphltn7r5BxgetWN+5WGYr5J14tUdIFwp4ngxEDJh6Gm8KQewB6UXlHexPVgaI4kEAWhDEF6YrxHJkcoQ+VJJQ7AXfGUiN6gBf/pVKN3wgvPjLCEMdl7CQE+t8JZi6Ui9FkaHhLJ16eMvZQfVoIDOiDNJQEMktQQRKvw/pxwlnCH9j1wrG60fHlw3Z5emYR6iU5isfSyqYFdD1Pdd1FVR/xCagapSA2dPPIQCR33YyFkf3IdYZwqC5HtotQ5dS8/5iVVphdo//v3Wjlw34AcEn7Do3FmNxaRE1hd7LFC0F0UGzDPLUwaACRVKuQpgvJ5JqGAlgixzgnhIiPoDk7/siATawgZZ3x7LeffPsvinRvOfafAkv7DfTRUUsH9B8Ae/tgsDge5t1IYqYqpWW5a0H/ztbuRmsIoaLxm72upIEGGJCjHiPuaeVJSRgKdTSis+kx2odbWdrfSfOBoGgY7kTA8DBj4MGkKnnNE21kVUGzKJZZgPXM+4rLksRFCEQfQ29X1CjbTYcaU53hnZ3Ff/FUWmF22fsff1DhZsfESTWuJSp9o5PKgcrtjoADMx8xgzmEKwh3WlobI8I1tAK2MixRY11XpJ7gaA43Y/hzHMU6lCbCbTR+a7+w9EeTJfi/+0fBeX/n98f6yxDvyZ+ALK5kwojkuUWCVCNy4UjeN3LCjg14oWtMuMyQcr5KIQ5bG4U5naF8tvR+e3dbMWjPK1Y0SjEuM9TsTUHwpAn6vcqoKxja0W3UTXj0hvdls4x9Gchuw+U8osMDDdWPHJj5nYn85K8as3AazxFmD3r6jY5Exk7Y1u7vKmildn8eyQyPL23vBh7S7QPuIsI0ZewhoBEkbWRJaq0NI8cUNCkuBMXCfWjubI5oDFHahuX9YsX3/+AP9z3B34T6owarh3rCToaFRlRkpe8xqnJBxdqLWiOqWFWPUYrfN1GR83HlUioxUT5UtmV16u95PKuXLXLrR7J7z1d6sF4EPI8FUk7g6RUh25E1xRJz9/nbsnUDaX/OfZ+J0TjFhjGL4sr3LfOIlSiQjCBqPvHeevrSqGbgqZlvlrfSllKzVnsPgW7fl/lMlVIObi0XtRZnjYhTDuEurCvEpXSSUJryMEUEmCynIGu1FgwI3lwaPWRVKIspqcnB9tWJezVnNJtozt+GwNqMJJf0jz2htmz6IZEVmz7ZP+xJshk/WZKaYRBuIO9oJKMmnGmKn73sXPLgfY8tWtx3/cbG+gjQXIc6f6Cqxu7ePdJYuGDBvLY8ZePIg0TsLIoRThOBoc8jgSmp+jhwBsI/9rF9/ZWTX5rWhwezZ0JG7tIX3YlSt0stTKxsFXQXytDOZrEpW66GaMixA0UljPIq1ACFBDUJhYPcCwB/j9IUUfqhy+fQ5hd/j4OEkt7TKPvNaZ9+7Nbbbr/khRMnXnxH8kL0VxehF32P8A/e/gfXRjdnO6I871vA8OCC/k+NoY9/b0vySPTSiW8+YKgq1vUDiQNxAliS7Tm9Kef13T9gyfjCF0RENAyEFNqrJxi+fYTtjjcNgHGHEoLzaBHT4okEC+p1zcIQjkeCCoFB+F1//Usnb+4VN1J020unJhV19ifPBKMjdAvj/eML00ZEosEEL5ZkKMJLjDGiAa7tmCCYc+rB+hSTMO4Y1p9hiISBVmgchi6dS0f/O0Q+8AMQhbvnf+CCqfa+7WKELnjRI/rJWRX3ti9HF4W/dXnzoq8RxtaeuyRpNYVspbS1POm78UMPiSXpfd+7sHcy3skb42EpDui3QjI6kGgNxGGtHmdsB3RzJXdJTrw0Gx8r50uRsnlb+qRObCP54gPFQOtj13VGKK3DIozA2m2dINMfBqkI/ubNN998w5XhGi+/kZV3Xrm//Ny9gF72TJBscHy80zQ/OnXZ2A9P9SMUiFpZLd1TxU+cSSmFaEp6LCosgqNDeCe1COWCGJG8GcrNMP1faK6Pj7178oXVLtZamsgkxP/KQb/wFwAKv98HN/aPXEuHAZgqvqsabea0yuStJ87PNrca/dl46bRIWAlxyxq6LY12fG+sb8GPzy+/cu7KXUs3nboQF2uob+adcuPZo63xgaoRLaTOUPbAYpE8Pl+EoVvQ+CgsWsk4BgZf96TOH+8bLcDuz5+8qfdHbMD+JnpmeDq64EeRGmx2BiJQmI40osiVTS6bCe8NIjFg6xyFRUkwCbUqONQAMZ+TBNwfU8nvvGiujf7D83t//dMPqI49yXDVQITx9MyDfiF4/4vDwkP3cuiilmMuIkAsJeFJ4tVD5RPPm++GClfkFEgJN250bOua0XUL1IPV8zegU7PTqhukjjs7u3u2DoGUJY1F7Xg4+vpXsmjtE+WWaFPriSwWAfKEBj6HkW9QFVuJAOVB/u/LGd4MGHnF3nTD5X8Qo0bMLkTPEE8HprllNVD0fAB3Qa03XJXTFsjOsCCHQL0hY2RohcJ0WoRrhiyucCR0KIKHU94/1zb/VD0eNTHuigJDlMFR1qjGaITImw/5rX9q/CJCf98I7eUbmPia+F1jmIwuPCEUraJQCNnJ6NaWori9s9y2aCR2Z6piOX3w3r6us2YJiSvGts5PS4BulvOxbjzIqLTtGP/rO/YMpV43aq6YTRTOUAGdBytMNNHc73PKD2EW5iZ/WEFbgrjnT30C99ysY/l/zb1niZh0jW6rvL896Ms45BMxYoYoDuJHA4pxAHbnQQ55K6nHvXUI3zvn4I7+hbkyyl3JworDCRNcYG19GOE9vMxfIGxYIxJHxFm/E1fake45WAiQpIbjDqjtETaqQkHbngUrHl2+pKT1sFozjp63Y+1JSUlszbIK6wK52i6IqSudY2z3oGKykzZ2NXCkq34Zgl5MwTuwwdhw/zsHJP7Zb6C//MAH/+yYlOucKKTnnf3Qkv/+mIlxk6fUmFg24D/MQgE3hCuARifAPcIa4CRsCRB5D1yOofdcOOcm/8L3dTEiLdeCuzQjmFGhjYYos+6Uw373HxdFilvMpSdVlYiMiHrPAKE+Go2ShFouRoZbrbgwgivVvww3FogkFhFf2rwVlys4TngW9T1BVUvwJPnyRxb4JO8v49aQ78ZJZ2FYZ5ZJkpaYh7G2kLIC5msxumTv1f80vPh/f1D/1h9dfjF6CXrmGR2hzdu3x0RyD1Zu1CRCNg4LK4MkI6EydmIXo7DYrCPMYlCmwOTR3Lv5Zx8mnpdJ3IFgGccgmrwIy5dCHKVu3SOnfv6sfad+5uxp3z7vEXBn7sP6/2/8EYkyNJplW+b1c93PAfQz4WUj1QAdtR6qh7KxdDCrE81beJw+cdpSvjNppA5IICgU5fh3FuQ1S9UgkdsW1P0qS2tfDmLGawzNhjkDkYNDRfgH7/zexRNX7xn/bjFy5b0XH3OOao6MvkZkYchCYyNRFHssxjMaShNCYXhYWjAMSAA19SxMaCPi+Lg5ehBk0HbvBlqyWGBFmIUFcirM/fUgp8ij5uFJf//Gw9kjaw7w/a8+iBMPPM7Dgz1qk3EezXfp5qwTj1eJLEgsE12xmMn+vgGyWEgzlMayg4VKs6i75OEEt/zIpj7TB2Evlk0XCynUxm4/VuMW9XdHLAU8DOUYDvswFyqM5kNTffe37rprPyNf9J15FxyzzefM6Kc/3n3diVuJ1b0luFoOy1ATSmIeFn8G0zvQ5ArAFTHMJMXQjufPvc2/jOn6cmjBYpDTwsZh/VsCLhUWdgetqIyOIvrYyb0zHyeUR48+8vhjPcN/cc1pAbyA/gC667Cau5c/P94lQg3YiqH5fTuQFVEkGGvkLDCU2CDGWjjPNMaRivCp67rLylGDV9FWXm9VLi1i4dkIq3jKoioyiphOsjrxSEYSGRI83eMaB/+4ncT7pxQuvWA2stFzlfU8/fF1p6xcxz2jexKXOJcMDxmgb5V0TIW6x15ikeAkpOEhtGJy7twb/T4ZdZf1DYXyDdsb0CVMALID0gDIB1YB+mHd44+AodcT36t1cg+vfWz9Wke2r123BmsqaZhngoGG+LUAVSDK06rExg6S/mrNYpa2JahSJKnsVpj3lqbCJGI0rgajR/Cn7/Rj46y/HuhHWfSRL3CTbR2m8fiyoXaZjlXzTogNXFOSmtkWBwL369/HH7ideSzfPftDEHOW6n7cnIZOfDAGhbOFZ5z6AQ3gpYxxwsnM/+q977m/Eu+64NwXXPCC888//4EYP3/ujb59WJ8ymFjPJA/rA/EooZ4KykJxewSmpMZDn0SPrt0KYT72taZkAWWIRnHswjKAGasRqKgwkTCUrRHzypUnd1oqriK8h+qkj+eVvnIHpbIyzdj5gZoIgUNNv2vwlUv+JXn81Nb4pohFmI883Opj2/r7Gvmu5Z3xqBWPL28gAxQOV9THDPN33/P993//LhKW4v7BC589Rj/1tG+dhPZQ3mFdm3CEq6wKORBoBk3dL6EL0Hkv3Ifo5zzuzppzm3+NDC5MuibM/HM+8jICahFxIM2VYCSMcFPQ62FiU5idYQ3IqThplmEFkia6dGdx9aNx4AGEAZUDJgAxQaxEaItTrM7nc+/yIbPb9m0CxMBqz+CgjJOilZkWZxXVfgCRhdmgH4oXxM1GyoZIBJcaLIgdI9US7yvZGm4JomnJ4zAY4e7T7r733ONRjEx0wbPH6Aid9JXTV2yMaWUiDhydZziXYaqyj940nRk/Sh6Ya6vfGKfE1WEpSwa6UbMIGtf3Kk2jkKxwJNWE41wEJiXC7GoMwjqnhrC8Ve+4aEfHA9kL6xJgR4AAAuGnqxBasRtcfZHCg9n8LVk/2TXv/D0Ut9HASOH1sixKKcbCEB+mwlAWmyeS9UPGUV1tr7LHli7JRFryVlHEA8KGyjrEBA0YwgKxvJdTXhIuzn82Gf3m7PFVK5dtt6bDMxIlvmiywJPj185w7qOcnjanJr/joUghFZaCQUw6UuMEQBr4I8YNjAFxWS/DSnQWwx/eRSSUplqGNNEuwj7ZdcH8Di4kzYF7o4iwkE/GW05AaNny9f12oLFjnlxARLWw2EXYbpLSKp43H+K7t6iyGmgLiXEjafGFaWN7dONAu1rY4YP0hMb8bWd38+ZyLwF3gElK3NshBVAAaJxRNfLxr80+w51Lo6/cWJ0ErgCCfVxKaCWgPzmHeH7SDOee9tirvzqXVr8Dy6ihM90UOBNhCSseFkfgMuW0r2dzHPYmMN7CKwudgYQaNWI9aYVpiUa06kVovge+jQQJE8+C9ITus3V5QLSi5ZMXddquzGqNqfM8co16acaMIXWFuAmxgDhhoGc14sGF/NyT8MnRKQsXvXVNkc+nfkk3SZgFBIzCdgwIc2AcGMmxxMFdiTkguGwuvesydN3Lw6YolS+ACUVxbaMweWTGc9035nIp/FuEr3wlNC0ox17k4INKRp5a6XguihQMbSRTEaB6nZWipoDihNdwaiGxMVh0Q6HN0p1Mt0bD0iBhq76wNyW5NQxu9norTxKuJQQAV/fjJwwaWaSA6IcKyTCuEKqaATbA8DjOwB9sjHD76+12g2ismwPI1IZZARrNUFQ2nNBOZQKD8vulOWgNMrdxtDcqPDAf7t60tRfWMMJmvuSrdf9c3ojzDcoZY8SE9Yk5p0GxSR+V48TvYNqQmHjjugSLSHPLahOm0UYUg3eapIkRjsMk0SG2mPYxEThK1MsjQ0ed2H91M1r5vIzgVkSbzT6CT5ZLzWjYwTGsGlf15sREYfs7Dn86i7DJd+8eQ8PtARB4xMmxbtPQsNoWF5y7fpJQw6D/qFBQNAfHXMI7HDueWIxWLyoc92B/7XBcOHyQvPHpQIW/ddIc3cdWLzAPZemCJjEzYf+IiIjejizDTYbluGVO+ToMDKhmDQQ/4KsHDg+hmwjmHG+6sQHUt7szONIMi/pjKkIQQGLZ9kXw++txH0JZa6Cvb6DR7BsYyIZHDUmwM3VYRjGkBWjNZQgXYY9S5K7eJvpjEOWxEqMDIuz+9o77QUkAm2OSRuO2yDAGISmzNyP02ec/q+AdofPQdy9C6OzxXXtapdSpkrvm8UOcfvXc3MX3gEmFFYkD785oBXHbhpwwQDR2mQmrhTVp3hjRNI5Fm+c4MoDcTDPZ8cSGHTWxx6YRCuLO2LS9JVHNoyoCCA5T2B8MLbjRi61Lp3KU3p/fj8uU+bDwn+JoPLUUFSgOSwBf59OyLGyTJD6qKYSX+l9SA0ElrgVOxlsmJqYB0pYB571lM3qWGR2hi775sxDcbzdt18yo0g3VQcf/EKJCoewSCZo7Jo0NG2AQz3nBGFKZBV7W7DAs+t2owCwunbGyJLSKohxUOd98pjptrUrDL60QW6IqrAgBkZ5hIiG6P8wJjT25kS05cUpyqianD3Qb44MQzY2DLwFPEEVssedUh2VDa4dN1tUCdQegLzBugfcQYH80ZWFLQ0vS3gIM21Y/2+Adjl4ye8UoTmoqURf3t5ZNP+e6Tauu27Ju/aq5uYN7MOvNMw2F4kYIoEsReC8FvVZ5kVEZFk2A/4iAoFowOyQLb9LevtAGxLoVcqExnSYp9wwGL9mcccfB14HqhWIfQgVKJdDtxtJkzcL9rjo4f95DwuepDNt3qXywy9rOZLqOwmZpKtSGVbQVafilMIFbAtMIc3UBRgiqI0skef3EgM9jv/AsNPrE0SkgiBo/OmDUDKY9cRU6ceWqR7bOidnvgZZk1jmlfViHDQi1DAsRMw6sDbsyLBjiwpo3bED62KJ+S7qp4RUjoM9DMAbBfNYoAQfNt0H4HvdlDMhf95YIkS6osUgI6BoRAyE+daQRmdN3mFTweLxBdum+VEAnYGORfenj7urVqx4mbN6g1xahUHclk/G3rcGoBCaXcP6a00+dFLBnoGcfvO89zhzVNaN7FqwfiL+5b4mB26yv48sn//VKdPMNIlTD3nzFrPZrIGM2yft1N2x9akntw27nNAqSOizzCA5LsA2TgHOWitq4KrGRkwpjjUG0eebZFpeB6Oo3952DhshaBIQQaYNI7DwN1IxgbbGKzYKpF1Y5eP6AL03YuLC/BP1VkIT1XYzQK3oxh29frWjkwqoiFpN6+Rcymb8Roe+8bK6NQY6T0dGOsp+ohe5k2d7Xz26wyqDL9zvpipfwG2+Av2b1yudQ7JGcP9YJ6/85qmtjrPWO8CQsPRAiO2UgxS3we9x1DPdDsLaehW3nNAZswDypWWUZ1jJCYUVeRSIDmg2LUH8xcWilCV1wYEe/cAUiIxRHCaXC64p2hPFOT65l3chaBoXhH1Eph5Hag2sdthpwc26Lw8P7vXedPisjXNE2UlG0ZVndfWzyB9cp5K6aetqyVYDwdyyf1WfcRaKWycM4S69mJ+wkTXlfoqgBNeZjnEmsmPe86yNRY4F02va2pijspEMiEVGwGwqr/lR0AKF4aFTFrO5tKAmRmUPnIRWqsV04Y18XoUCjBt1d1oTrvHnZCZMh7ISVW31SjnI9GNEwldb45ivD+xvWrX7aPT1//axc6CW+f1kDicbYwsVscssIGlbkmeH4mRvu+tItsxjCIp5rFkuKiGQsbPbHMC4qEvZLdRQid9SXUcYA/at2rksk8kikTZD1gAwU7lJmHLhYlM2zvX3F0hOGEQVYB+7Ho4hFCUNVTmk8s24IszoQ1x1paSpcY8qHUafoAsIolBBrWZX2GuMr5ZzD++Fj+mxNObnijm1DZcNTYmp0+yXoOmq5dm7qEkI3FmGxntt8iX6ht2DWt/BVs6Ef1kL8pSKsCBh2myCEYhoWaxbIWg4kXpAOzQqFEER5oqw1yHNiw5bEgoe3vKaSAN9WjR0PBVqVtjpGhrlRocyr1KDo64gsnfnaNQ4rQxLaymM3bmkyZWz88q9TFxtiMy1TmcSqt8nagftI3VoXr55lo+PjuvnrTRuW+gYIIonCGk4QXdlVx+OyO8NmSUVYngmcy+mQjWWKScCZikgK9hvTKg/rJYQ1+sIGvxZJYyogdyLJGfgzia0Dma/9eM+4nR+LeWFvirDdNIQBxkfRQUPg3UO1NMohU6lOnzygHuKGrN2/XQ9pXMqU6LbCM5j33l2z3kbHS7JNHCvPHSvRzgZpY1ftdDbFxWnH4aobDHa0t3W3M/2IxcnKUqJo+xKEQSOHEFNbXYUBFInD4sWMOt+QKMcorMIMREBQiLlxJpky2Z558DOyNVo3QOThwlZhoWZ1xryDXny9jEnYyqRkafKiA+FgIxk4d9TFdX/YaWI8TurHpxdi380fOvVZbXSEFp+4Mt/dPvHSDvq5tZgqdvKRfOmbJx/TNceEJ+PbWYsIIQzX3OzKY4EWhsXggGVVuHCVcWG2iwU+1Vvsg4O7K++ykLXxcaSB2BMJxtbD3gctLkcy6RgtCcmEaJw4/xAX3xS2E7BsZ0zq6RO2nrAXoh1613zvGOolf0c3nzzN5nvegJ7V8L7/ceeuiiwwbFyOyWhuQf4JAs4sLPMEOaqcphtPEha0WSh9xsYbxTC8UDYwN/g/jkli7RiQ87RYsgUjIHmYcxSZqjEu1rfPbEK8GNNLMrwZGGE3ipcd+urXL422zyuL6OyDnXBD2Q/Mosag/neidvaqAz7+4bZXPVuTM9OPF32xXFFaxdpNi7919RxeaGvYABTwM48wsCbUZutWjM6Dvi6Rcjawc6aBh4cF28IgOZg9QqXRijYcS0qGJfBuRMdITDLk85Tk8PcC1X1CLCrR+ImHTyHawskc2+qgJ+gwVbWXIgqzXqcNTbTHn73JmenHLz6fJg1uBow2dC6vs3QsR+DUor/UyHa99Ek6UBPkdaEAzRWvEQkzmxyLT1jJcBIBJiQN0RcDpMclTzhmSBeEw00apYp6hwzg2HH1I37Z6vmHvzwfGW/QEpmDR9j+DPClMEVZyrbyB+5DVg0ebu/TZ5Gnh3FX9IOMbHbRHN9Em9TOxgXFdpy5sYScGFKnvR2Mg6kV0WFbHuJrt2Phkt1eAOg7n5Q8Rq5LUNhDngrMBAizeqdf0IU+4MNc14DqzSO4+pXfNsMOQsNBT3jZV+gl93Z5mVSujmn3wM2xxYvRy65/6U+M0eF4AUJF2OdhTi+idzGMtQBuhmgUeTAzUMiwDxayWCjPiPbEtAcibtHWhHqIrtJEWPloTHDnvNTSSmzrPM7xfOUBL0hn3hS6/r1DzsjKRvuQ6B7iEaWB/v/t7OI7K6ZKeeA+6i/+9lVodm3+dML7ZGw3V5FpG8b/cG8V0qwcl4IMxvVIuwT9BQG0dFaHDZRwIyZc1TjXYQeGAYtKtXtjHnZ44CVTNGYlCPSQga+LkbAvdmNEn7VrZCT2fHjHvh8PGyAeehbeJSwq2s3pu9tfN/kiDnUlV43fVnPeZBODMfsfs89y2dNudOjGeupzfZObVyJ8C75s1qx+k6rRAHgwdWXssOYEGUp9WaEx3tTOOAjY3hkP/N6GohmriBEA/y7Qec6xTrCzuFO0tww1SJvnzUlutWukOAKEv/o7/TRsBnTA8fInkai3kkzDEvhf/4Lp378Ov2x2Bx6fAUZHt5jb9sv13iFkhtG35hfm6z55GTwyOXZwe/EdhI6yah6EZR92M6elLwXqUiv54m3M4hxTxLwo2bKC5HERtpnxeSMMng8KVppYDTcd3mLrrM19rV2K1g0UzbZLi6TZPZL4siOL5CFyJb0/L0O3CH35gZ9d+4qJ3oGfzcmZmY4TTvnann05iU0Xj3To8j3rmv3NZrJp2xapHnnihGO9xPLNuKxZVRlPsFem9F1eq7ADsN+uqNOMcC8cQ2PSal850dF1oJcsEh2X49JpV5SjKqejYe7TIrRFWtByrpVLrY6klHN3Z8hdcvCPJwfVTlhrpynAXgXW7StufPFPmtEReuFjd+56dNNqdNNKdLd73I8mm9csSa2N0lBW5PqKR08+1iusWI8Au0VSYqfDssQYQYTvaFcSYjSzkSwIK0y8G0nseVmT0hXD3S7E7xFq8W7vqzG+ndQL2plNnlADFiQ7MY0IV+hICreXj160PDzbzMcd6x+aeLwbrjzQ5tdMfLACrfr6tlksKiLoGXG8ahVLBWjSb91iL6Ge2k2L+hxipZaxE3JXxa875itAhNa6boMqr73uaqssKGetKtZtK8friu3aUw63CbKF2dMhKh8e5c6OtauE+fGwh1TiGtbvXsrPXzdQ7wHdLQzrjHdJeUQX74n0g20Ebianf0yvDX/lJMij+eYnztMB2latwSvRGiHLTSVp+8Gwz7L23Y4w6MJReLXhWAsL1jtsgY7ZGBSXDrv9VkZSFNe5T+CfxOaVQqWsqFUGaJ7WmjoH8pp6Nk4KSY131a72iuGLf0BKspCLwtNQPEeO7LZWhLBFt81cG3LCys0rD/31O/haxn908k+c0SF6wZOfvKYmXc771y0yMcdNIVynZA8UyCOy4RjhbdXq9YQQyhSocxN2TZWIK5+HTfjCz7fzOCzxjnJT81yUYaFXFyY6WI2lSkvSzEmB5xWLbt/iWrzVHJaOwdl2yZHfwEaDDkZNVt4y8yfX7a2pXr5ifXTx7Nn8GcHe9zsUY+NLRhgYxzmiks2uA2xJWUu9v+1Yqzlehr4VttZyoeKYe6X7WW9u4E3QBvWoCvsthYS8Im1UmIGO48SAx4ssFwlItqKB6jJhZ90/fwEVBR7sciCE6mhGq/AhVoTi1/EZmNpN+yj7S6659bLZa+Wnb5RtxuObbLdestOeZrhAlIy00+0tFCQVD7OSCAAzPqbFtK4lniLqrkTfoeRJ4XunhdgORD6qzIBxcdgNjoZwj6jQxAmBSNIsKGYmHvXjzmDSnFfbhSNcEX3MquKavVH7+kJOS8rc1pYYqbkYinrmwHvvOPmRdGxo94mJksS5EsWejEWgoBcNlGAK46/cgNZtPYaWPnH1upetWgmBYvWqfWF0raeXb5Q+LFLLha854IzyYbkY3sXSGKtA6OFCsITTerANSs43eN6Ja0zNMc+5PPmb942EgL/Tus0HxK/rO5qSl87J5L5nmNHRQ2sv2nSC5KxTAb8GEIamr3m6PO4fBVB264hHftfSY2EOM0TUlSvQ6pWPG5ByvrZeaxNZWhlah1kwiPjYQlBYu2THIuMjMu4iMsBdhZXU9SxUrZ68fle+DFgeI1dO/eBGFBbGnps5P+SZZfPv9IXppNyNh+1vI6BbKbeJA5X1OArLqpGwXm4+J1cOrC1MYgUFjwtlUFgZx6q8KpUxjKhVo63N6UJaD4HHV+1hN46K0Vnxwp/L9tx5B/oZ52+c8vatqtQpvxL9NBjd5Ysetd3xmjgA2RqkeliMgzhVngpGx1g77+folg0Nixri3n6/BlQ9wWEFKQ4KPa8KWzoiGr7obbPUsApVSTR23uxc+NVuJxA2yfef43DDTaAbscI3/zQY/dtm/cLVKwZIEeYHo94uAKhPcrxr52OhQv6ksJQAdmvmxOhh9jpcEoWprS8hJCwsh8O7Vtv6heT8ujuyO95SD/C+Msx0LpfP2ppPP2/r22+56NJ0fzavTRF2tDI/DUYfGz6jhVUV5hKgsDIAqqpWjUUUI84tQVt7QxPEfH/2r3xtSNlhRjH8j+gbg3QPK5GH9SgQf9VN+FYw/o5uVIFDaqdM+YJZu/KNaJ7D4kY0ufrnd2+/9RbFtWZK0uj6gPQ9WjehLn/yiNw91/UPytq43hK9IWfivYiQxFGtbVg/lphQSuYG3Hmzf+1NNhSpURxmOYRChjBnCbDeYmz8hhFi/SUbSrQRjQdyiUo0i+vYrkInbKljv2HnXn66IUyStoimmcSXBqrYUyvhxS1X/AR4+oap/3yYJo+Dv9mw0mbgcT6wtuqiF6qODuuE9EpPPHPJ8Mgdj2+adTIBSo15JzgSRsLFWVjCFjvqHR15N6dXvhhd1Bot14uyVnmOXzC7F79suIvJZJWFUhrVDDcxvTRkzq7Zl5+7/CdBsh2gckdaj0aDoRuCX2EPcB52NMSbNuPLtjgCru4lE4gKGlZ5O/mBPZsXz+KtXB82zPFkPkLiRdtcGGqb8AjvkIp+LBh424OdU5qclXFUmllft/PMR5MqXjeRgFi1ei3QyBQ6+dpg5R0rvjGxKvFetXnTugfuef6z2NMPOJq7XMPZ/7+9L42x7LjOO7Xe5W29Tk/P2jMkPRyKw0WiRhY3KY5kQEngyE5+JIJ/yLAQA8mfQAgQBHZiG8iCLDCyODBs2IAdGMm/RIEBI3GoXdRiWuIukkNyOEP2rL33W+6tPafu6xl2D2fldPe85ryapV+/d9+te+urc853TtU9h4B3cUnEUBJrFcfiD9+K4CN5d4/LSZGEz9Gfe/CbHUhffG7z+v68YqQIVInMf4/RuKqOcy96ceD83x5rxlFyYwt7cDq60mzB3t2yy7uXd9FlvJb1qOZVdp6T8AsxC8kzfY/uG/BzdCxurvnG/4Vv7khJv6I13u6OpijjVcbrquY8BIneEw7/Z06zIJ468GxhdZm+Be+dA2bbU3zitbnJTer8yDvI34SQqGeZiU83xXqg6Kx7at6Shr178PUMZt6emh0dnXt83+bf+9GfjDg5d+ZUtQ73rsArYM0LMTD77cVHn41vHu6HaQ7h35m49nSqPGlPnp7bt9MlHc5KDd4LSl2s5oNcJu5dQ/Q5/IAiyfre9+NOlzFHudUOUu6zk9nYe/NnNif70ucSXgtdTaw2OOaxqlBMBx4TVRzz3rJXG7XGi/UXPzbCky259/02sc71q8I9+fhnkVJCv+7nPdD+XvXus2jVv/4tfPEdglKvJP9CQtvPfH+jC7LjJP2bk5rLmPA/IH3izgdOY3Y+hZodXJXsL/i6WAGSy5h5s2h1ZGlqNGWLF8c2oftTLosLLTjlpKM2ZnGr0bjyXj71RiZGE94SS8nec949tCU3v+8FkHl2+dmJ/TMHzlXMYaY3OVur2MuBmJonmv0Xv3Di5P/50p913yRgJZl9943L0eB7dxzoy82Fs3V00ImKjxoFSgMjxBuWxAfKkUujySPWGm4Z6E9fgJosa67l60yVUsxtQrbJmbM+PtDIYxpRiPsjVHwMAj3EmQt8lBneU4GvTq/Qqa25/ftnaYtMrHtjjae+dnDmCsZ6BO695ziYRk5fqDEwnL145Bb7Ghz1LnN7WBtvjIwFfkKIOdoQgqBi/dIo7T7m/HFPE+ilzwO1vWTJLTOjREjz1vL5N2/7Ap4SpTfBteMOOum8oRwdRcl6/6vdXmoTZ7thxJZyyxKUf8aqq4HRvRSeufJqP0f5Y03XOfOCvpxs95kdJ+mLrWL1fIdn1tEQwzPceA4o4qjvuRch1t+2lrJ3RKCFFJS5mi4dk0ixG6CSlbxx21dwkUOJPpoTIkZ7eaNnXIkUnveA7mZl2splSpb3bdkAzEyNv+Y/UCb5vkvhmfUOZqXQTzMX84w2VtyJN54/FvfMVmTvL+7ZQaDXGX0l4VMliMibIVgQkcDHzRPI6D1NNU6EwGIGwBryuMBwCkhaQzugmXBwcfdtX8Gek9iRjtt3TAwMOekdckZiv7g0VlLCfa2ddfOF8S0cg9fnZ1+/B36yOj9x3cP6sM68Qf1fP9mQPF0hMcHgwUsf3hD2QQrD5qQ325A0PoiC/rkVTpYxvVPcK4UiH5M+sFilE8DShFnaIBmzMnGWFsZa2AQwdLkKtGlJ4RjTPq6vuiTR9K2/drrsmtGx9rxr9IrdWzgCBw8eOHPwWXli3+lr9vLs5d2VL9JATlEueM13Th79wJzYIaBDOb4EZT01EIuSucCdjImZmG8ZdJwdkWWO6HNJGkiziNMpVzkrGWdAnVnae/v9j7/GfKRwnAsdizIICqYjkvHps4ePhvzd9r566NjprR2Dg3Bg+ujoqX0vvnTP16q0I89PI9B/dZnMvb+jdvf+mbk8qKdn9h9ZWVg5uDODMwCtxXffbaWFtEEowiVNDSp6pHYW/agQJJpcyWNNx4SwEFO5Op87xxMGrDEPmyCBz0kNpEzi9ubgvI0PE4XwhTMrc14vXzybm1Kcm7KT2zES+2D3PdBPNTMdgd7zyvLVNNne6f2zEe2D5Y/hFsjGYC2t7mvvCtpYNOEEHTM06oL70Gh6h36aYIrmHF12layiYstrUmlmZ+6htN1xmj+yGVTKNGJ1tizWCnQ4yUjo7U5/qtDEtOTIZ9vG28zv2d4Rea4fa/5h61o7oPuPSx0/Bt/pL7/eTKBmsPbI8bc785M0JnbEYefcekeRvYsiinlwGWkGl6SZzmnguaXItZPF1zNQK815tRnuc+3CsgqCaNXyzgOxpszEspMZssc0QBOvq9aCUxPbOSJ7+1ZrX+tG83XfwW9s2Ch8744BHaZm6dwuhXSNOC/RTUfe1q0JCdbWrShpmaCkN7zi3Jmk9A17f4mY4Ky4b3NCJkXbMUVcTOU6aTSN8s5E+sm2ZmNwtsvqaW5EZxwGsx3amTYdZY3PtZcyVKyxRBK19cLxGi8T6uK+Ai5oN4BEF44rjhNCeTK74oq82y03iV291M4SkpRp4qdtUIrykKUuOS3zESXu3V1mNW6tHrvDYzTbXvdM/OmRD3GGAdsYCUeTPcfAuwJEwrn0mZTa6RWdJR4s6nvqfUvU0KMrqBJcCeO0WDXtRzen83aStZXXKXNdg3qdZYz1gmxTe6Fm/JvvLMytMLLRNXx7u8fnL8+eSeTCibMX134n73wEQIcn6ufG33zBnytLUiy0OCPNXj2rGxDjjGjGkkm1XLS8BqVUyjLCOOnNP7FJfS8R0mSExAwFC7370pqI5XkolfZIO3W7DvncdjO+YTW9t+0ODuNdy6abl5Zm8g8j6XzQQJ/Oz6w+oMXs8rgYaXS9Daus50tqWEh4pxVYKfbOxdp2NR0C6Uy7UHQ3K03RimatQjHmhB4tgmj0yLQtWio3+whboqGVdCeiD7HuG98yx7ZvZFZRq79eDzDlAr+8X9ry0wdv+UyD9oQLkIQtQnt6/0R5ImvqkjPtXSxxnvhUEbuXaGFFIWQnpbQXsvmuNWAObU7X4a2WsEzmwUsiIRWUBetZOlFbcbbZQfouraqZ7OLlKP+bnrx7YJvG5aIXZqlWiiQLOXWX90s7F2tHXq/92ZHBBx0ImMmJYnbKr+63XJiMaI4MOidM1V3SgV6L+YLQVaAsKUlN+26jmNkk0K0kHCRNa6jD9xReWxqaIijO6IjMl8Zb5wsmRPf9hIFGnCT3bM+ovMkzHoQPI4xRNECd9BLorOSvXDd2cGQHSDqg9W6OuMniyeN/UCcJOJ34QHKXO8+L0eByKHB69+pOMG9ogQyemM0B3TOVCyLqPKeJzDuQclpvUi/rIyO1gtPpondmL9M128/m/4ZfetuJ7ue3aVAkS4VXNWYyT5wIBLr9HTzOC3Xx+tlpP7j+MoCgo7DTVpsuL02/kMZ1tFyGYECWpBR8VTrvA2fcNTNXGl+CBfnpzelVG+ktqyp6EBJDQzZ23Ni/PN/t1nrEi1KnoVZbq+CgVB50T89sx3iggwo1SmgKTIBOmOMsBKck0hAe60pefwvJlZj/+X23wN6/tp2wHxyZLLIv1qbnFm1oTMSom9bZBG0YrUE0DHpyXoeYnSZJN6vQjU4lb7WkJsJQEkv7pDJLmeh57YqVsKK4S/WeS5GxhS6Zd7Sdb4+YB5Bg1tKKZUBirDgnogfLwlGViO/eysme+Ru3wt6/uK3CPrVykK10yr1lhwJDZtUmdRVS21ge8aoYm/vkax0uw0pVDWOTumwEgXqTm6pwOjNpkxYSyp4CZnvuvf3a9lrr8v+KhUBs56ltEfRqa8yVdA3Vu8UpaOpW3tK0/9wAumyXWrkqTx6tl8hTJ0qbqpDLLIPVkI3RxJIyf6FXKxOtYi1stVldnj4Yn5qsO4hBdn5qvA5as9AJHhp5OZYtrA9nLyG7LIvR7RH0NYJ7pWaqQgZiLuO3Wq+PDiro2QRhX8+k6Fgk7vUkYWnv/GKIS6w9dh8a+rTLuhqCXu5tVmUhmInbdXodRzitGTkjXCupoYYHQlyq5pY3JAi4Nx2nprsdoxfCdecCsE5C5uc/GqCHTO/vjSZQiG6tWTJCqRWCCQV61Z9gnV7pl50jlDQbm9cn0jeokRrVBBLPs3xeMNMuW/mU9DP1ZEOK4osyUW7X8a1H/GqQ+/XYje3uMGZ6b131+z/YWaAToGN/z5h6s5Y6lTCRtNMS7ZrWtAZLio4JKxV1SY09urmjbFJGGbVal8Y2LOetMcUtrRvX3bB7IlNkhLk7gfgHQasRy5eubuQ+/fUdBTpAS5OFMbTYKpGsFgua5paGjCoCE7lZpjEzAC3spmbHmgOSEUVsMCzjWSiMtmWY2hPqi2nu16f+PXWOm1ynd0Stf6DVkPDUD7181c+umsBkYIkceqbz7Um/ko8V2ofM9YxNkxA9NrJLLQsvVzrjElLyyGZ2ussyZUbjRnLGia1Kt5RsxRdCCiQX6w7c0+s603h4S+//2p9cwel8WsqkHH9v/82emw+upMNYz468vnu+VQa/YhOTGlcP6Kcx1zFLuy5A/YnN75IBHSEUlA3OcuJhRFFlu1ON5cUkWa9ApXKt14s7MShFCmFtQd2tLfix0hederYIHwXQV0HP2nP7Cm99II710rD68Eu8F7okgVn2ua3pdGE3mryM+26qSEmJbisflonLjd7AGOmIOvriHRmVJd5sXpqhfcknBDRTuvXe+U/ueNCddOnqnnrJY0opsASJvADbZYXOyl66Rdm2oL8+zR2PiRA6zIaU+QuJkrAxs3sh0uWntnlAjEtj7Q+8snWqPRifG7dExAgJzTeO7HjQ6WKv/tPJ1AdGC4+U2gn37QkfVmoofFuEOQnSxNAXQdYYDG3My+aq8/TdA1eu3k4ANLb27lm4MhwjRB+xS5g7CJwGaQvpRkrTlY53bu7cg8vel1bcvkTsGiGiIUmaBh98J8huUMCFIlvWLe1XzaNUAuE6QVsC6LuV263KX+PrMN/gGpaXSR5zxqNoBKfJWGOKFSuk2NmgvwPdl+Htie/lgagyM053bJfUu8EE34AeZFvV7zwka3EamjGS1rImZaTh4OFtvv+jc6uuL8yo1hk4A07HtHIBUnAeSo2avVxJQXktqKAqsY3RNJ3c2aDzwBpa5TVlgcgiITw3rNRk1+6kFisnia3qd/ISPQJVpHYugZIYaYne9gGYRCcCLDUadXjRI85oY2hfyFmsSILQ8bEe2iJrAloCJspQ6+nnd7RNH72wDEsPwAEvglK1TgiEllnYbbg0uTHJ1nGomAQYLI8pJKEOFtgqh8yx7R+BnMT8Ox6Ni0B2Qajl2rAgopQyUyNo9I1nvp1RVrKUBEG6atWs7GjQa68cNhMLsH/ZasqWQHVqOAhpQWC1Zxl8Zgt7JvPjlf4jUsTaLuRCixD54PaPgCiEoT2wXniHRCNr2MSB4XE+oifpM+aE14x3M5UyhWyOM9NVfEeD7kb4WNrZO2dBtI3oJcB5lioPPqWObu06B62iHj6Paa68MCO90fCJOzEEzIK3QTo7nxPuYwUx6tKu1BKQ2CCvCehWmkxCjtfqeL1b2Pj+Dgb9VOJGvZw6lcPS+MPwJncJe+AE4yZYDU9scd98tQp+WPQXxn17WeTmZ+/IGKhoXGxXQEZCyMrgiPQhJboj0YRzXVJqJekkXlGHVLe9MJbkF39hJxO5mRM/bNvV1Ux1uT1xyopl8K9S13GOUbLVfTelWURJd8ScWZjrNVhq7swYXDjvjeGmXE3AgLUxOwb+KVJSlt33jFGWMaIyQkRRCkJYFuzsTTo1g6re7y8Ia9p5k5XgCnHyUC8zBM0ZVeTTW953tjB2caTsTF5gSjS69vgdGoJ7f1Cnvl0KvQzcWr7k74v7JgTSy24xpcII0nkRmBFW6uDis5aZlDsbdKPe3GV8pycTtGVu76lp28Fpz7R9YhtEbHaMLkznbtQ4vqJ/9o6NQVCcFsTSDnPpvbDuuclAV1shXUi541bYmNa2KMvlRTvy9I4G/ZuHsoOJcRlw7xX3CVtpcEppabvb0LmVp3r01HQYse/U7Z3DHBhfTGxiwYVyo/dQX027vuGlcpChlMe9BozKs7WbTQ0+oKA/dO5U7WMiyYUrlTEepvWZfYY6739+Gzrfe5omUD8EMLbvTo7B/6StuuZXTS7QfOcQzHoHji+lIahyxAbbDTfNzwaVvb/nHutlFwR0eSDIZiCMb+Ojgo8PxBj80h+/XP/CNT67eAj2vZoIZpgnpaDKOl3XN4he/PcvXVYhvzWImP9v3nkk9z3mSxOootpSy04egLusPfKxa9aDiipoV72tvQerNfXq5HtW36Aw57E/fWigXbZd7dYFZet1q4JjqRTCu5J8G4ZtY9Md5eyy79qzZ9pp/W/e6PBf/tNBVu9/PLNwbDHrGFsn2vkHXwNfUh/CEOUr2rnAXBbO0M68zNXFm//eQEq6nQvh3twAcZRJ/5IO3hLvPztE+Yp2vH22s1w008Xxw5N/9xdvfPwv//l/Q4kaUElPfXlmoph5t+4Tzo3U2nL11BDjD7a4T/APvwJz8iajF/Ppf81/ZVDZuy05kG6tpCa3mVMPDuG9dvvKzT9a+kehGP3SoKr31Vm/26jCpYwZG7wdIrs57VfTkA0skau1FYELVrQ42GDpkMFtVuO1XxxY0A2D0oy63hwd6x4B2DtE67rt96HB5//hjY76nUOLv1p+eWDZ++9+peCj8p3ZlWbuxBDTG7Zfc8vFDRdVf1fmFL48uH66BlYu0jwzwrOhPb8Zrd0VtRsc8nt6bPVXLh8/gPfwVcj08rgTss380SGkN27/4EYH/Jd0TIq/BYMM+r/8jc5YT7KSPfoCHSJ6++0/9O47fG69WzeIo0r+BfENVvryR+GhIWS33f5tvXFgfoMrP4ig/7pShlB/vPzUo0PIbrv9thXjb2zMUzGA6v23CpF89f/52jO1IWKb0H4T4E/UL214awDX0z/7tSnx+tSiAT57Yeiib0Z75Irn1gdP0n+7LVZ13qNOcjuMxW1JGzybvgou1Jd6NgNDjg8BujtA9yI7Hw7QvFd0n9zRQ/tPh6DfdGP/5swf/WbdK+m+sMNdpYG9ssEjcj//5Ym/OC1B+b8z1MNb1AaPyP1ag4sF05TFEJy7R73/vlXt3rn2UvGH69/9nSFUH2XQ4ff+s+klPdfZUP7qq0OoPtKgI4GnxT/5R6r9n4bw3EWg/8G//9fwj//Z8uq/u/mv/PoQyh0Oemz/8TfcP2/f/OH/agjlzTcyjHQOJX3YhqAP2xD0YRuCPmxD0IdtCPqwDUEftiHowzYEfdiGoF+9PT7E6+4CPVYO/v4Qr7sG9Ifg/gc+/epnhmBtVhv8BZfDJpl55u//jyFUd5Gk319MTj4DH3HMn3gQNhaPeOKRu1nSJ2unHq4/O8AX+KBZSoxXDZ+evKnjj7sfVz8fNYltrAawwrTOyQCl9UBTl7wF8CnaaYfUitff/9YjzXPkRKX3fLBJqmNth5T/6KMH+jFelt3JVwf2+o6+BvDJsjRglKonrEiyn97wOw/rQI0lJlbL9D4NsWo38VBT3DrwlNDcM0YIQJ6H4J3j+K4GY1wglPuclsY74zkNgca6XBQE8c2Xr93fz5zYeZI+kfOTg3hdj/W0U5lmE/a8c8F3HTSBqCAJDRwYJYgbI2zDgB/TzjtLNXEOEDIfgnXeEx+AUqAklg9xCIdgBH+hjDL8xQEBF3P4e28DpagKSGCAJwoEe6KMMyZZyoxvsOc/CpL+aLyLh5addLXXBuKCHvCXtO3DpXbO2FgYKbXx1ft5cRBvQlAQuZNJkq1TUg8WxngL3hAXXGAI5PVS3aIIxzxqCKxnARBi1Aqh4l8ByLqCTCTBqSVQ08cZYrnkVAb/wo4F/VjR/Ak8QM1iyEVe1p+/81d0lNN+vdWn5xDAgOJWIsKOUXdlLiQa62DypMUv12d9dBUhd6jAjTf8JlMnUZTyqt5irNdz7aM4j1Ud4lxD7AG1vQ1ZTXYb391hoH8K+ckTlrfHV8sl5yFN4K0tUNB/hQb5uT5Tfvbp7xz/S3zxeAz+PPk9gKe+u/5aYnu8CF1HS0anVk2ptffaXltURUOKS/rpWBlCcFZ7i7rBbY0DxhlxhKJB4MgGYnUPLizf89zOkvQ47p+UK82pM2a5tDITsHka/uO8fAntBu0rwc8wHetvBY9/ec1rj5Ms6skc2oEG1/g2PGmtgRKtb7AoRM5zNLCo062/dtk7IhMu6Ewn/yE8RjqlQswR8rClhb6ipEPUDdU/ZAXpSFMWpr7spQivDD7oj3DPLbUcmakyquzyVAi1CbL+cUdUghTKmZAiApLzEjWuZeCBoeXUHHRbkoCywjjxqDGZlciuK54dVax3rKhqo/nrDxlyq0zkteZ3UIeE1ULHxOVIurd7GJsTorHQS5hbsjLJ39nw2TY/wPhkgdyVsB9f55Aogx8XUgvz7OfnkfsQHWtL3n77yfEOquSgFDhOOEMcvOoCXCGAlFpKM4/siM1HbSw9ozgDNGLt4WYERHLgQqYpYv4JBNuiUlel337ZKefTFUIuODcqobVwhyQd6fjPJDaP6SBBimfhUz6oeteOkGeP82oh5ekVHufCJwJxL6CdhSeU0s70dCpq6K789Hb6PoaSa5BGoYZG6VZBIMU23IctsLGJbKB+52M/fGgeBPphUCq0GndEZdaQUq64WiN14b0tA30fc6FVopZMX7+WhvWO4kBYVHYG2WasJRpQ8NHXpGgpbSwRjS+YQd8XPSLv0ZYGEELS23PWPwaNjnE6IJtCox0ac1toWwUiTrMkKfAerS991BD2zoBOfZpMEvf2phO5/fyStThUu8QXPqaoZyhLlvNX72F2A2CPUeVNwR2OPXqiFkfEOZL5qHcdTRjT0b4KFEkSbIhuCMhaSd+5LY7QRUZrONGl625HptkYXeHRzcZ78tWf7cc7+u1M1lvslc1l7wdsRMozj/BStHbowTADDN1LUnEjfKMeOITMkBikeKQUwVP24mM9JFIINLhYshpPgDaV4Q/CbeCSMRQKHDCUDxpJFFAJPL2tSOxD0VsixigTtlHiYnAlRtvuCE1mlFMmRNOP/WhzXLZ72zwoxxh08a6cihD3oQ4ReoLqDN/Cv94nnAoky4GiI4mOkI+fx5hSAI4Yoz2llQ+E+j4GFxwISwVxPHCcECgemuFk4ox9ON7+iEP3yyYBiSD27Zw2Vt8tT+2h0EHuU5u1ruXp3jR7P1TkthC2l3cr/4OuSU2IddpdxYjW0SL0t6gvSUFY9B7xl0CqY2MxaEoVaoKoJAj+qMQ6oOQTiyZecKQ+ATHnjJ77kOHS0mpwMQMdCjZSNieo0dbD3fOgJs50WBVJmn3Y4MwuEcB4kli0tKoEyz3pLw9YtMMIm6M+RoMMAc7QPlMS41ShHy6gPMTwcRT8vr8TpRpiDXDP4jEcCJ6K8Mzi96iPqwsU5+Dsh4+UWuUivn1jo2mcZfEGQ/+Nu6wlD63AG/hz+tytgn5kQToWmPXeG4SvgjxGfCoNjvDFaIVDJo6+t49rDVWwOMYy0BzjUEdCEYWcRKG+PPAo7dXMCJHvOOJHhBF4AgT9NPoAnrFTN7qhGWadY5StY3j3FV00B/3ZE8kGVEG0tevxcFc2uucpVZ47v+uFm1Pvh3CmRMfrDXio56MVpnG5x1V4oqGOaz00BqlERJY5nATRTKM5rqw4DjqSMxRdR3hcGexPBgQ1LhGRtZmGbzqcEFLg4bkiZ/aTUJHrs9UFTONH5Oy1MEeLjSYk2EOXUT/IWN3hJKOOoHusjY9zUFQWxcXu7qbn8CWwTLqlVj2cvjX1fp+JXhf0nbzD0e06Yj0qZOK8pWi9EX1WLfTZCLPzkY7HBaEqjomA+zgL+nLtrzPiFTUgeQOB4t46xgmpxHwXDRdgEvX9+f5xu8+v+9JBnH3Oo1UhInt742SgsBZzcXHSOa4o6qLoGt5F6j3lUhRZFvhbH9Kmv98O+8jLKfrXpIIXxTQq6eia+cjE0Q+LwtsXKoQ8+qehsq/+ekuDcbNAIILQRtxOgHo/vLvu4ylWCfseIGcu4eodmhoStQbqlfeuoqGCRRonVHSaXFT1Hmkd3CX6nTAaGO8lu9N6m7/8IYncXiJptXwTULoR18ouhyjMtK+mY/whrucBVLo6VK06bVz3d1EhXN+gUoQ9t9HNi+vCqF3i5MHTR/b3PtTXa3tEhNRzp9EJMFA5x/GuArqAYCl15V0i4Yz093B442BECjLy8q2DfhDWLMIxFaU5VCKLoPjKCYuON/S5erXY7yNRj6NNopRHUY+EPW4NAn+tmBQJ6O9HThi3heH14o8omL6aN2RtG0GcYnDh2pQuLptF64KI4zWwSraj7oksJIb7Nmw1+chLesQeRRPyLOWE89c+vHp/QNko7lDt1omiXkVgKsGuvO844kAqi94/rlL+Lm7vigbVXXPUK6jjWjCKe3wVsa/O6Su/Hj+IYouSf8m0T7O4uwz5A04QOL3Pc26NsRXIa46B36hZ7sY8ShwlifFRM2o4Tv30ueuAfnjtFeOmwtaTk3A40D7U8R2yFl8JlYGshBClKKrlNWmPyiCaedcfePzPV2Je2YBroE4DUjcK/bOQatcPqRx7cmlHQPS2XTgP+4LXqLIr29HL0NqgexbVOs4tiCH8SzP9rs+WxSnjmTNdB3mzplba0Kqz5MR1Jf2Bysmpxi+sCfKa9a4kr0J1gyhVYIeKzq/NiSrqHP2xarXh+jadVYJO+gCTfheXt4BQyhlibnAueWrS1F40FejI97BVMRiolrFi7zBsH2hZtZcWR4nvYmAoE9DfS09qwFrg0Ndhou9mk7h2fczSfuTSr80LWuG7Fmy7hG4I/Z1GfeLUF+m1D6Jwu5uIikTdTi6/Rpyj3JO+5YieNkvAmxj/q85kiVu7hr7ZR4XgwxDv6xHlsSSSYrO4Rmd5lgdNIJfgzAaGyyXjglFZbbJEn4pGrbpmsCuNWhH2fqArxmoqN825uK+7vDXnqEI89CGsUI5BvCjslDkPa0oiqpqKQFaBoSGOt4Q5ESVQif8YcW4937t6WIc5szbCNEPfp3TXGm8Ux8jV3WZd5hqNIHC3Rk+HbdiGbdiGbdiGbdiGbdiu3v4/+AgACzbAVsEAAAAASUVORK5CYII=\" width=\"500\" /></td>\n",
       "    </tr>\n",
       "  </tbody>\n",
       "</table>"
      ],
      "text/plain": [
       "<IPython.core.display.HTML object>"
      ]
     },
     "metadata": {},
     "output_type": "display_data"
    }
   ],
   "source": [
    "SedonaUtils.display_image(raster_df.selectExpr(\"RS_AsImage(raster, 500)\"))"
   ]
  },
  {
   "cell_type": "markdown",
   "id": "cef34e54-ac3c-48f3-836c-5a5385b79481",
   "metadata": {},
   "source": [
    "### Join based on raster predicates\n",
    "Sedona 1.5.0 now supports join predicates between raster and geometry columns.\n",
    "\n",
    "Below is a simple example that carves a small rectangle from the existing raster and attempts to join it with the original raster"
   ]
  },
  {
   "cell_type": "code",
   "execution_count": 7,
   "id": "6442349c-be2e-4609-a16e-b856745ddf46",
   "metadata": {},
   "outputs": [
    {
     "name": "stderr",
     "output_type": "stream",
     "text": [
      "                                                                                \r"
     ]
    }
   ],
   "source": [
    "(width, height) = sedona.sql(\n",
    "    \"SELECT RS_Width(raster) as width, RS_Height(raster) as height from raster_table\"\n",
    ").first()\n",
    "(p1X, p1Y) = sedona.sql(\n",
    "    f\"SELECT RS_RasterToWorldCoordX(raster, {width / 2}, {height / 2}) \\\n",
    "                  as pX, RS_RasterToWorldCoordY(raster, {width / 2}, {height / 2}) as pY from raster_table\"\n",
    ").first()\n",
    "(p2X, p2Y) = sedona.sql(\n",
    "    f\"SELECT RS_RasterToWorldCoordX(raster, {(width / 2) + 2}, {height / 2}) \\\n",
    "                  as pX, RS_RasterToWorldCoordY(raster, {(width / 2) + 2}, {height / 2}) as pY from raster_table\"\n",
    ").first()\n",
    "(p3X, p3Y) = sedona.sql(\n",
    "    f\"SELECT RS_RasterToWorldCoordX(raster, {width / 2}, {(height / 2) + 2}) \\\n",
    "                  as pX, RS_RasterToWorldCoordY(raster, {width / 2}, {(height / 2) + 2}) as pY from raster_table\"\n",
    ").first()\n",
    "(p4X, p4Y) = sedona.sql(\n",
    "    f\"SELECT RS_RasterToWorldCoordX(raster, {(width / 2) + 2}, {(height / 2) + 2}) \\\n",
    "                  as pX, RS_RasterToWorldCoordY(raster, {(width / 2) + 2}, {(height / 2) + 2}) as pY from raster_table\"\n",
    ").first()"
   ]
  },
  {
   "cell_type": "code",
   "execution_count": 8,
   "id": "ed399ee8-42b7-488b-8141-320c2bf6d9c3",
   "metadata": {
    "tags": []
   },
   "outputs": [],
   "source": [
    "geom_wkt = f\"SRID={int(raster_srid)};POLYGON (({p1X} {p1Y}, {p2X} {p2Y}, {p3X} {p3Y}, {p4X} {p4Y}, {p1X} {p1Y}))\""
   ]
  },
  {
   "cell_type": "code",
   "execution_count": 9,
   "id": "cb8aa25f-4706-4ee7-9994-3da474c3eb2c",
   "metadata": {
    "tags": []
   },
   "outputs": [],
   "source": [
    "geom_df = sedona.sql(f\"SELECT ST_GeomFromEWKT('{geom_wkt}') as geom\")\n",
    "geom_df.createOrReplaceTempView(\"geom_table\")"
   ]
  },
  {
   "cell_type": "code",
   "execution_count": 10,
   "id": "6461c14c-d479-4c64-8f8f-8c21903dedf5",
   "metadata": {
    "tags": []
   },
   "outputs": [
    {
     "name": "stdout",
     "output_type": "stream",
     "text": [
      "+--------------------+\n",
      "|                geom|\n",
      "+--------------------+\n",
      "|POLYGON ((-0.25 0...|\n",
      "+--------------------+\n",
      "\n"
     ]
    }
   ],
   "source": [
    "joined_df = sedona.sql(\n",
    "    \"SELECT g.geom from raster_table r, geom_table g where RS_Intersects(r.raster, g.geom)\"\n",
    ")\n",
    "joined_df.show()"
   ]
  },
  {
   "cell_type": "markdown",
   "id": "9be5e7db-17e5-4bab-b7a3-8ee278374355",
   "metadata": {},
   "source": [
    "### Interoperability between raster and vector data types\n",
    "Sedona allows for conversions from raster to geometry and vice-versa. "
   ]
  },
  {
   "cell_type": "markdown",
   "id": "cc0bfd1c-7117-444a-8189-881da19846c9",
   "metadata": {},
   "source": [
    "### Convert a raster to vector using convex hull\n",
    "A convex hull geometry can be created out of a raster using [RS_ConvexHull](https://sedona.apache.org/1.5.0/api/sql/Raster-operators/#rs_convexhull)\n",
    "\n",
    "Additionally, if a raster has noDataValue specified, and you wish to tighten the convexhull to exclude noDataValue boundaries, [RS_MinConvexHull](https://sedona.apache.org/1.5.0/api/sql/Raster-operators/#rs_minconvexhull) can be used."
   ]
  },
  {
   "cell_type": "code",
   "execution_count": 11,
   "id": "22b9dd16-f720-4fa4-acb9-b80c34702a93",
   "metadata": {
    "tags": []
   },
   "outputs": [
    {
     "name": "stdout",
     "output_type": "stream",
     "text": [
      "+-------------------------------------------------------+\n",
      "|convex_hull                                            |\n",
      "+-------------------------------------------------------+\n",
      "|POLYGON ((-180 90, 180 90, 180 -90, -180 -90, -180 90))|\n",
      "+-------------------------------------------------------+\n",
      "\n"
     ]
    },
    {
     "name": "stderr",
     "output_type": "stream",
     "text": [
      "[Stage 15:>                                                         (0 + 1) / 1]\r"
     ]
    },
    {
     "name": "stdout",
     "output_type": "stream",
     "text": [
      "+-------------------------------------------------------+\n",
      "|min_convex_hull                                        |\n",
      "+-------------------------------------------------------+\n",
      "|POLYGON ((-180 90, 180 90, 180 -90, -180 -90, -180 90))|\n",
      "+-------------------------------------------------------+\n",
      "\n"
     ]
    },
    {
     "name": "stderr",
     "output_type": "stream",
     "text": [
      "                                                                                \r"
     ]
    }
   ],
   "source": [
    "raster_convex_hull = sedona.sql(\n",
    "    \"SELECT RS_ConvexHull(raster) as convex_hull from raster_table\"\n",
    ")\n",
    "raster_min_convex_hull = sedona.sql(\n",
    "    \"SELECT RS_MinConvexHull(raster) as min_convex_hull from raster_table\"\n",
    ")\n",
    "raster_convex_hull.show(truncate=False)\n",
    "raster_min_convex_hull.show(truncate=False)"
   ]
  },
  {
   "cell_type": "markdown",
   "id": "8ca7e862-45c9-4559-a2e1-4e044d6b5c84",
   "metadata": {},
   "source": [
    "### Convert a geometry to raster (Rasterize a geometry)\n",
    "A geometry can be converted to a raster using [RS_AsRaster](https://sedona.apache.org/1.5.0/api/sql/Raster-writer/#rs_asraster)"
   ]
  },
  {
   "cell_type": "code",
   "execution_count": 12,
   "id": "8bc32fc6-d418-4e7c-8631-57e2c623f14c",
   "metadata": {
    "tags": []
   },
   "outputs": [
    {
     "name": "stderr",
     "output_type": "stream",
     "text": [
      "24/05/22 17:59:36 WARN VectorToRasterProcess: coercing double feature values to float raster values\n"
     ]
    },
    {
     "name": "stdout",
     "output_type": "stream",
     "text": [
      "+--------------------+\n",
      "|     rasterized_geom|\n",
      "+--------------------+\n",
      "|GridCoverage2D[\"g...|\n",
      "+--------------------+\n",
      "\n"
     ]
    },
    {
     "name": "stderr",
     "output_type": "stream",
     "text": [
      "                                                                                \r"
     ]
    }
   ],
   "source": [
    "rasterized_geom_df = sedona.sql(\n",
    "    \"SELECT RS_AsRaster(ST_GeomFromWKT('POLYGON((150 150, 220 260, 190 300, 300 220, 150 150))'), r.raster, 'b', 230) as rasterized_geom from raster_table r\"\n",
    ")\n",
    "rasterized_geom_df.show()"
   ]
  },
  {
   "cell_type": "code",
   "execution_count": 13,
   "id": "a7eecae9-3763-405f-a22e-c7d77ff703b0",
   "metadata": {},
   "outputs": [
    {
     "name": "stderr",
     "output_type": "stream",
     "text": [
      "24/05/22 17:59:36 WARN VectorToRasterProcess: coercing double feature values to float raster values\n"
     ]
    },
    {
     "data": {
      "text/html": [
       "<table border=\"1\" class=\"dataframe\">\n",
       "  <thead>\n",
       "    <tr style=\"text-align: right;\">\n",
       "      <th></th>\n",
       "      <th>rasterized_geom</th>\n",
       "    </tr>\n",
       "  </thead>\n",
       "  <tbody>\n",
       "    <tr>\n",
       "      <th>0</th>\n",
       "      <td><img src=\"data:image/png;base64,iVBORw0KGgoAAAANSUhEUgAAAPoAAAD6CAAAAACthwXhAAACNUlEQVR42u3d0W3bQBRE0em/0KkjyLcBI44scqkzt4MDQgS5u+JL1it1dpLewvZd99k1Oovn7Z2dpNP2zk7SaXtnN+2F6bOj9s5u2gvTZ0ftnZ2kS/jZZ8fwnZ3Ej07iZzfxsL118bPPPjuD7+yzY3jY3rr42WfH8J2dxMP2zk7iZyfxnX12DD87aW9d/Owm3rX3B8H0uvKPsresvVXxrWpvWXur4lvV3peC6XXlT8a79P5GrvyZ9lbFt6q9Ze2tim9Ve98QTK8rf4a9VfGtau9bg+l15Qfbe0Ewva78THxZe6vae2kwva78IHtvCKbXlR+B7+ievqN7+Fa194Bc+U32svZWtfegYHpd+bX4svZWtffIYHpd+QX4lrWXtffwYHpd+dvwLWsva+9jcuW/bm9VfMva2WsO/9LdW1xU9+TkI+xeW7yXVRYuL824a1LwIuzk3pZDWPh22Dz4mXR1L909P7HzQph8JwMxuXsalJUnJj2Z3JLnnlj4/fSg8mRyS557Y+Hwn7NZ+F30oPKc0eQcPKo78jelWHhY+JX0oPKc1+Sae9+DFeFR3bI8qvu98kSlq/IElQeV5wlNzsE3mWpyxx15+h4Lj+rOBox67myUMAgPC9+0dM/9qjxR6ao8D4+Fh4VHdcvyqO7/kUeVJyg9QelB5cnkljwfFwufnHP/Gz2oPB8bC5+cc39PjyqPKk9QelB5iFh4WHhY+Bd6VHlUeWLSE1SeyTF5wFh4VPdfeibX+gNV7Qd75HYYqAAAAABJRU5ErkJggg==\" width=\"250\" /></td>\n",
       "    </tr>\n",
       "  </tbody>\n",
       "</table>"
      ],
      "text/plain": [
       "<IPython.core.display.HTML object>"
      ]
     },
     "metadata": {},
     "output_type": "display_data"
    }
   ],
   "source": [
    "SedonaUtils.display_image(\n",
    "    rasterized_geom_df.selectExpr(\"RS_AsImage(rasterized_geom, 250) as rasterized_geom\")\n",
    ")"
   ]
  },
  {
   "cell_type": "markdown",
   "id": "df954a81-5004-40f7-b80e-795f8569757c",
   "metadata": {},
   "source": [
    "### Perform Map Algebra operations\n",
    "Sedona provides two ways to perform [Map Algebra](https://sedona.apache.org/1.5.0/api/sql/Raster-map-algebra/) on rasters:\n",
    "1. Using RS_MapAlgebra (preferred for simpler algebraic functions)\n",
    "2. Using RS_BandAsArray and array based map algebra functions such as RS_Add, RS_Multiply (Useful for complex algebriac functions involving mutating each grid value differently.)\n",
    "\n",
    "The following example illustrates how RS_MapAlgebra can be used. \n",
    "This example uses jiffle script to invert the colors of the above illustrated rasterized geometry."
   ]
  },
  {
   "cell_type": "code",
   "execution_count": 14,
   "id": "53abef31-b1aa-42ef-8eb0-f1d9227e3893",
   "metadata": {
    "tags": []
   },
   "outputs": [],
   "source": [
    "raster_white_bg = rasterized_geom_df.selectExpr(\n",
    "    \"RS_MapAlgebra(rasterized_geom, NULL, 'out[0] = rast[0] == 0 ? 230 : 0;') as raster\"\n",
    ")"
   ]
  },
  {
   "cell_type": "code",
   "execution_count": 15,
   "id": "75f06a1b-1ab6-478b-a50e-b621a10d6d8b",
   "metadata": {
    "tags": []
   },
   "outputs": [
    {
     "name": "stderr",
     "output_type": "stream",
     "text": [
      "24/05/22 17:59:37 WARN VectorToRasterProcess: coercing double feature values to float raster values\n",
      "ANTLR Tool version 4.7.1 used for code generation does not match the current runtime version 4.9.3\n",
      "ANTLR Runtime version 4.7.1 used for parser compilation does not match the current runtime version 4.9.3\n",
      "ANTLR Tool version 4.7.1 used for code generation does not match the current runtime version 4.9.3\n",
      "ANTLR Runtime version 4.7.1 used for parser compilation does not match the current runtime version 4.9.3\n",
      "                                                                                \r"
     ]
    },
    {
     "data": {
      "text/html": [
       "<table border=\"1\" class=\"dataframe\">\n",
       "  <thead>\n",
       "    <tr style=\"text-align: right;\">\n",
       "      <th></th>\n",
       "      <th>resampled_raster</th>\n",
       "    </tr>\n",
       "  </thead>\n",
       "  <tbody>\n",
       "    <tr>\n",
       "      <th>0</th>\n",
       "      <td><img src=\"data:image/png;base64,iVBORw0KGgoAAAANSUhEUgAAAPoAAAD6CAAAAACthwXhAAADu0lEQVR42u3dCY7bMBQDUN7/oDxHWxTFdDBL4lhf4jI8QMQHw44kCwlYG8h8iCfd076IDrTSWUx3vO7LCvvZV9LN8Ova2tkXloUZfmVVM/t6Ohrp/+wopHvZZ+joo7/ZUUd3si9vCBv8JB1ldB/7QDuY4Ce6mdhHqsECv4GOJrqHfagWDPBTpQzsu+iC+LFG+va5QvL2wT4Qx++lo4T+qR0ddP7QRfGzRaTtwz0gjJ9uIWw/RFfAj1fQtc83kLVvKKBq3zE+NPFn6Uini9r3jA1F/KaRFe0C9FP4XcMK2reNqmffNyjU8DJ0BNMf2pFLV7NL0RFLf8KOVLqWfff9JYQXpCOTrmTfPpOADP7AJErFfmLuLGKXpc/jTywXRexnVsoS+EMbJAp27as+ipeno/IxN2yHvHzM7kAfwsNBPmOHhXzE7kIfwMNFvt4OG/lyvBUdxnTczg/djo4VsaQDUnZD+io8DOVw+31AQMxuSl+Bh6l8gR2u8vt4Zzos6ICe3Zt+Cw9v+R07zOU38AF0CNMBSTsC5C/iQ+iQpGNTiumQowOqduTIr+Kz6BCiA7p2ZMmv4PPokKDjUM7T8UMX1SNT3kx/Ao9U+WM7YuUP8QiWP7Bn03GADujbkS3/Dp9Px1Y6xFJMxzY6YGFHhfxTfA0dG+iQzTQdcLFX0TFKh3iK6RijwyAzdMDI3kjHAB02WU0HrOyt9N94tMqBVjqX/wm50/VGoXz197rfDY5a+Sq64zMdfcuWtXTLL3F0yMc2oz2nbciXT75zM52no1a+gG67Msulzx8e812LI1K+5Yys8e4L0uQXutfKw+jXyufIL7ePPxk4QjffUUet/Abd/iWKO/3O/Vorf5nu7ram319tm9JX7Ks5yhe9NqmVv0YPcPvRl573cpIvPtnpIydL6eR5eobbhU4Negr8Oj3FLU8ndeg58Kv0ILgundSiB7lF6dSjJ7mv0bPgYnRSk57lvkKPk4vQeSIQkJOtdGrT49xP0wPhT9ID3UfpdKBHwg/RKRHUyp+gZ7r300kjeir8MT3VvZNON3qsexOdNKQHwx/Qk+Hf06Pho3SKB1NyspVOZ3q2e4ZOmtPT4V/T091f0wvkC+l0CxbJyQx6A3wNnSylk0H0Bvfn9BL5J/QO9x06GUevkX+gt7hfo5OR9Br3ZToZS2+Sv6cXuS/QyWh6FfwdvQv+DJ2Mp3e5H9HJCnob/I1eB/+STtbQ++D/6IXwj3T2BO/kZBm9U/6HXun+j04W0jvdf+ksDWrl/AVhPl20fBJUvAAAAABJRU5ErkJggg==\" width=\"250\" /></td>\n",
       "    </tr>\n",
       "  </tbody>\n",
       "</table>"
      ],
      "text/plain": [
       "<IPython.core.display.HTML object>"
      ]
     },
     "metadata": {},
     "output_type": "display_data"
    }
   ],
   "source": [
    "SedonaUtils.display_image(\n",
    "    raster_white_bg.selectExpr(\"RS_AsImage(raster, 250) as resampled_raster\")\n",
    ")"
   ]
  },
  {
   "cell_type": "markdown",
   "id": "fde725ec-2941-4b6e-9b52-5fd35cea6c01",
   "metadata": {},
   "source": [
    "### Resample a raster.\n",
    "Sedona 1.5.0 supports resampling a raster to different height/width or scale. It also supports changing the pivot of the raster.\n",
    "\n",
    "Refer to [RS_Resample](https://sedona.apache.org/1.5.0/api/sql/Raster-operators/#rs_resample) documentation for more details.\n",
    "\n",
    "This simple example changes the resolution of the loaded raster to 1000*1000"
   ]
  },
  {
   "cell_type": "code",
   "execution_count": 16,
   "id": "c8fdb8c7-52d5-49fa-83f2-44a9438bd509",
   "metadata": {
    "tags": []
   },
   "outputs": [],
   "source": [
    "resampled_raster_df = sedona.sql(\n",
    "    \"SELECT RS_Resample(raster, 1000, 1000, false, 'NearestNeighbor') as resampled_raster from raster_table\"\n",
    ")"
   ]
  },
  {
   "cell_type": "code",
   "execution_count": 17,
   "id": "b14820dc-ed04-41cd-9220-73a5179f52df",
   "metadata": {
    "tags": []
   },
   "outputs": [
    {
     "name": "stderr",
     "output_type": "stream",
     "text": [
      "                                                                                \r"
     ]
    },
    {
     "data": {
      "text/html": [
       "<table border=\"1\" class=\"dataframe\">\n",
       "  <thead>\n",
       "    <tr style=\"text-align: right;\">\n",
       "      <th></th>\n",
       "      <th>resampled_raster</th>\n",
       "    </tr>\n",
       "  </thead>\n",
       "  <tbody>\n",
       "    <tr>\n",
       "      <th>0</th>\n",
       "      <td><img src=\"data:image/png;base64,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\" width=\"500\" /></td>\n",
       "    </tr>\n",
       "  </tbody>\n",
       "</table>"
      ],
      "text/plain": [
       "<IPython.core.display.HTML object>"
      ]
     },
     "metadata": {},
     "output_type": "display_data"
    }
   ],
   "source": [
    "SedonaUtils.display_image(\n",
    "    resampled_raster_df.selectExpr(\n",
    "        \"RS_AsImage(resampled_raster, 500) as resampled_raster\"\n",
    "    )\n",
    ")"
   ]
  },
  {
   "cell_type": "code",
   "execution_count": 18,
   "id": "bee36339-d0c1-469d-9354-980a23f24401",
   "metadata": {
    "tags": []
   },
   "outputs": [
    {
     "name": "stdout",
     "output_type": "stream",
     "text": [
      "+------------------------------------------------------------------+\n",
      "|resampled_raster_metadata                                         |\n",
      "+------------------------------------------------------------------+\n",
      "|[-180.0, 90.0, 1000.0, 1000.0, 0.36, -0.18, 0.0, 0.0, 4326.0, 1.0]|\n",
      "+------------------------------------------------------------------+\n",
      "\n"
     ]
    }
   ],
   "source": [
    "resampled_raster_df.selectExpr(\n",
    "    \"RS_MetaData(resampled_raster) as resampled_raster_metadata\"\n",
    ").show(truncate=False)"
   ]
  },
  {
   "cell_type": "code",
   "execution_count": 19,
   "id": "2b0aa64e-4a02-4c85-9ba5-6459d2002f8a",
   "metadata": {
    "tags": []
   },
   "outputs": [],
   "source": [
    "# Load another raster for some more examples\n",
    "elevation_raster_df = sedona.read.format(\"binaryFile\").load(\"data/raster/test1.tiff\")\n",
    "elevation_raster_df.createOrReplaceTempView(\"elevation_raster_binary\")"
   ]
  },
  {
   "cell_type": "code",
   "execution_count": 20,
   "id": "623123ac-98bc-4d51-828d-9d874cc6f471",
   "metadata": {
    "tags": []
   },
   "outputs": [],
   "source": [
    "elevation_raster_df = sedona.sql(\n",
    "    \"SELECT RS_FromGeoTiff(content) as raster from elevation_raster_binary\"\n",
    ")\n",
    "elevation_raster_df.createOrReplaceTempView(\"elevation_raster\")"
   ]
  },
  {
   "cell_type": "markdown",
   "id": "2a6afdf3-e774-432f-96a3-96a4ca8249c7",
   "metadata": {},
   "source": [
    "### Access individual values from rasters\n",
    "Sedona provides [RS_Value](https://sedona.apache.org/1.5.0/api/sql/Raster-operators/#rs_value) and [RS_Values](https://sedona.apache.org/1.5.0/api/sql/Raster-operators/#rs_values) that allow accessing raster values at given geometrical point(s).\n",
    "\n",
    "The following example extracts raster values at specific geographical points."
   ]
  },
  {
   "cell_type": "code",
   "execution_count": 21,
   "id": "ffe589e1-50b7-431a-ba84-b2c297b77f65",
   "metadata": {},
   "outputs": [
    {
     "name": "stderr",
     "output_type": "stream",
     "text": [
      "[Stage 22:>                                                         (0 + 1) / 1]\r"
     ]
    },
    {
     "name": "stdout",
     "output_type": "stream",
     "text": [
      "+--------------+\n",
      "| raster_values|\n",
      "+--------------+\n",
      "|[115.0, 148.0]|\n",
      "+--------------+\n",
      "\n"
     ]
    },
    {
     "name": "stderr",
     "output_type": "stream",
     "text": [
      "                                                                                \r"
     ]
    }
   ],
   "source": [
    "point_wkt_1 = \"SRID=3857;POINT (-13095600.809482181 4021100.7487925636)\"\n",
    "point_wkt_2 = \"SRID=3857;POINT (-13095500.809482181 4021000.7487925636)\"\n",
    "point_df = sedona.sql(\n",
    "    \"SELECT ST_GeomFromEWKT('{}') as point_1, ST_GeomFromEWKT('{}') as point_2\".format(\n",
    "        point_wkt_1, point_wkt_2\n",
    "    )\n",
    ")\n",
    "point_df.createOrReplaceTempView(\"point_table\")\n",
    "test_df = sedona.sql(\n",
    "    \"SELECT RS_Values(raster, Array(point_1, point_2)) as raster_values from elevation_raster, point_table\"\n",
    ")\n",
    "test_df.show()"
   ]
  },
  {
   "cell_type": "markdown",
   "id": "8643ed69-9128-49a9-80e7-f9115694695f",
   "metadata": {},
   "source": [
    "### Extract individual bands from rasters\n",
    "[RS_BandAsArray](https://sedona.apache.org/1.5.0/api/sql/Raster-operators/#rs_bandasarray) can be used to extract entire band values from a given raster"
   ]
  },
  {
   "cell_type": "code",
   "execution_count": 22,
   "id": "48f56157-ab07-456e-83fe-75d23f5bb28e",
   "metadata": {},
   "outputs": [
    {
     "name": "stdout",
     "output_type": "stream",
     "text": [
      "[123.0, 107.0, 156.0, 173.0, 115.0, 82.0, 165.0, 222.0, 115.0, 82.0, 0.0, 0.0, 0.0, 0.0, 0.0, 0.0, 0.0, 0.0, 0.0, 0.0]\n"
     ]
    }
   ],
   "source": [
    "band = elevation_raster_df.selectExpr(\"RS_BandAsArray(raster, 1)\").first()[0]\n",
    "print(\n",
    "    band[500:520],\n",
    ")  # Print a part of a band as an array horizontally"
   ]
  },
  {
   "cell_type": "markdown",
   "id": "e586b0e5-935a-47fa-8ebf-b63ddd9a48a8",
   "metadata": {},
   "source": [
    "### Visualize Raster MBRs"
   ]
  },
  {
   "cell_type": "code",
   "execution_count": 23,
   "id": "2a2c7086-9588-48a7-a710-c10b8c5e4875",
   "metadata": {},
   "outputs": [],
   "source": [
    "# Convert raster to its convex hull and transform it to EPSG:4326 to be able to visualize\n",
    "raster_mbr_df = elevation_raster_df.selectExpr(\n",
    "    \"ST_Transform(RS_ConvexHull(raster), 'EPSG:3857', 'EPSG:4326') as raster_mbr\"\n",
    ")"
   ]
  },
  {
   "cell_type": "code",
   "execution_count": null,
   "id": "6f39b3db-a0b1-4842-a5ca-b5a5850f3ea7",
   "metadata": {
    "tags": []
   },
   "outputs": [],
   "source": [
    "sedona_kepler_map_elevation = SedonaKepler.create_map(\n",
    "    df=raster_mbr_df, name=\"RasterMBR\"\n",
    ")\n",
    "sedona_kepler_map_elevation"
   ]
  },
  {
   "cell_type": "code",
   "execution_count": null,
   "id": "0a684add-0608-41cb-afc6-230d15b3a97b",
   "metadata": {},
   "outputs": [],
   "source": []
  }
 ],
 "metadata": {
  "kernelspec": {
   "display_name": "Python 3 (ipykernel)",
   "language": "python",
   "name": "python3"
  },
  "language_info": {
   "codemirror_mode": {
    "name": "ipython",
    "version": 3
   },
   "file_extension": ".py",
   "mimetype": "text/x-python",
   "name": "python",
   "nbconvert_exporter": "python",
   "pygments_lexer": "ipython3",
   "version": "3.9.18"
  }
 },
 "nbformat": 4,
 "nbformat_minor": 5
}
